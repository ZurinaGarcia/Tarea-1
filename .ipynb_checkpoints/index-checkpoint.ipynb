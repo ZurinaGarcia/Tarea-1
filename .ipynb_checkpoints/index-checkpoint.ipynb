{
 "cells": [
  {
   "cell_type": "code",
   "execution_count": 1,
   "id": "fda01450",
   "metadata": {},
   "outputs": [],
   "source": [
    "import os, pandas as pd\n",
    "import numpy as np\n",
    "\n",
    "\n",
    "# Leer los archivos de datos en dataframes\n",
    "\n",
    "country_isos=pd.read_excel(os.path.join('country_isos.xlsx'))\n",
    "poblacion=pd.read_csv(os.path.join(\"co2.csv\"))\n",
    "obesidad = pd.read_csv(os.path.join(\"obesidad.csv\"))\n",
    "gripe = pd.read_csv(os.path.join(\"annual-mortality-rate-from-seasonal-influenza-ages-65.csv\"))"
   ]
  },
  {
   "cell_type": "code",
   "execution_count": 2,
   "id": "0f1d2070",
   "metadata": {},
   "outputs": [],
   "source": [
    "#LIMPIEZA DATA 1: Si mi variable seleccionada es la población por cada país en el año 2020\n",
    "\n",
    "# Como mi fuente me brinda información de diversas fechas, porcedo a filtrar los datos de 2020 directamente en el DataFrame original\n",
    "poblacion = poblacion[poblacion['year'] == 2020]\n",
    "\n",
    "# Cambio en la selección de columnas específicas, por el nombre de columna \"population\"\n",
    "poblacion = poblacion[['country', 'population']].rename(columns={'population': 'Population_in_2020'})\n",
    "poblacion.reset_index(drop=True, inplace=True)\n",
    "\n",
    "# Se hace cambio del nombre de la columna \"country\" a \"Country\" en el DataFrame original\n",
    "poblacion.rename(columns={'country': 'Country'}, inplace=True)\n",
    "\n",
    "# Se realiza el cambio del texto en la columna \"Country\" de minúsculas a mayúsculas en el DataFrame original\n",
    "poblacion['Country'] = poblacion['Country'].str.upper()\n",
    "\n"
   ]
  },
  {
   "cell_type": "code",
   "execution_count": 3,
   "id": "5ef946f0",
   "metadata": {},
   "outputs": [
    {
     "data": {
      "text/html": [
       "<div>\n",
       "<style scoped>\n",
       "    .dataframe tbody tr th:only-of-type {\n",
       "        vertical-align: middle;\n",
       "    }\n",
       "\n",
       "    .dataframe tbody tr th {\n",
       "        vertical-align: top;\n",
       "    }\n",
       "\n",
       "    .dataframe thead th {\n",
       "        text-align: right;\n",
       "    }\n",
       "</style>\n",
       "<table border=\"1\" class=\"dataframe\">\n",
       "  <thead>\n",
       "    <tr style=\"text-align: right;\">\n",
       "      <th></th>\n",
       "      <th>Country</th>\n",
       "      <th>Population_in_2020</th>\n",
       "    </tr>\n",
       "  </thead>\n",
       "  <tbody>\n",
       "    <tr>\n",
       "      <th>0</th>\n",
       "      <td>AFGHANISTAN</td>\n",
       "      <td>3.897224e+07</td>\n",
       "    </tr>\n",
       "    <tr>\n",
       "      <th>1</th>\n",
       "      <td>AFRICA</td>\n",
       "      <td>1.360677e+09</td>\n",
       "    </tr>\n",
       "    <tr>\n",
       "      <th>2</th>\n",
       "      <td>AFRICA (GCP)</td>\n",
       "      <td>NaN</td>\n",
       "    </tr>\n",
       "    <tr>\n",
       "      <th>3</th>\n",
       "      <td>ALAND ISLANDS</td>\n",
       "      <td>NaN</td>\n",
       "    </tr>\n",
       "    <tr>\n",
       "      <th>4</th>\n",
       "      <td>ALBANIA</td>\n",
       "      <td>2.866850e+06</td>\n",
       "    </tr>\n",
       "    <tr>\n",
       "      <th>...</th>\n",
       "      <td>...</td>\n",
       "      <td>...</td>\n",
       "    </tr>\n",
       "    <tr>\n",
       "      <th>266</th>\n",
       "      <td>WESTERN SAHARA</td>\n",
       "      <td>5.560600e+05</td>\n",
       "    </tr>\n",
       "    <tr>\n",
       "      <th>267</th>\n",
       "      <td>WORLD</td>\n",
       "      <td>7.840953e+09</td>\n",
       "    </tr>\n",
       "    <tr>\n",
       "      <th>268</th>\n",
       "      <td>YEMEN</td>\n",
       "      <td>3.228404e+07</td>\n",
       "    </tr>\n",
       "    <tr>\n",
       "      <th>269</th>\n",
       "      <td>ZAMBIA</td>\n",
       "      <td>1.892772e+07</td>\n",
       "    </tr>\n",
       "    <tr>\n",
       "      <th>270</th>\n",
       "      <td>ZIMBABWE</td>\n",
       "      <td>1.566966e+07</td>\n",
       "    </tr>\n",
       "  </tbody>\n",
       "</table>\n",
       "<p>271 rows × 2 columns</p>\n",
       "</div>"
      ],
      "text/plain": [
       "            Country  Population_in_2020\n",
       "0       AFGHANISTAN        3.897224e+07\n",
       "1            AFRICA        1.360677e+09\n",
       "2      AFRICA (GCP)                 NaN\n",
       "3     ALAND ISLANDS                 NaN\n",
       "4           ALBANIA        2.866850e+06\n",
       "..              ...                 ...\n",
       "266  WESTERN SAHARA        5.560600e+05\n",
       "267           WORLD        7.840953e+09\n",
       "268           YEMEN        3.228404e+07\n",
       "269          ZAMBIA        1.892772e+07\n",
       "270        ZIMBABWE        1.566966e+07\n",
       "\n",
       "[271 rows x 2 columns]"
      ]
     },
     "execution_count": 3,
     "metadata": {},
     "output_type": "execute_result"
    }
   ],
   "source": [
    "#Revisando si la primera data está bien, obtenemos el siguiente resultado\n",
    "poblacion"
   ]
  },
  {
   "cell_type": "code",
   "execution_count": 4,
   "id": "534695e9",
   "metadata": {},
   "outputs": [
    {
     "data": {
      "text/html": [
       "<div>\n",
       "<style scoped>\n",
       "    .dataframe tbody tr th:only-of-type {\n",
       "        vertical-align: middle;\n",
       "    }\n",
       "\n",
       "    .dataframe tbody tr th {\n",
       "        vertical-align: top;\n",
       "    }\n",
       "\n",
       "    .dataframe thead th {\n",
       "        text-align: right;\n",
       "    }\n",
       "</style>\n",
       "<table border=\"1\" class=\"dataframe\">\n",
       "  <thead>\n",
       "    <tr style=\"text-align: right;\">\n",
       "      <th></th>\n",
       "      <th>Country</th>\n",
       "      <th>Obesity_adult_prevalence_rate</th>\n",
       "    </tr>\n",
       "  </thead>\n",
       "  <tbody>\n",
       "    <tr>\n",
       "      <th>0</th>\n",
       "      <td>AMERICAN SAMOA</td>\n",
       "      <td>74.6</td>\n",
       "    </tr>\n",
       "    <tr>\n",
       "      <th>1</th>\n",
       "      <td>NAURU</td>\n",
       "      <td>71.1</td>\n",
       "    </tr>\n",
       "    <tr>\n",
       "      <th>2</th>\n",
       "      <td>COOK ISLANDS</td>\n",
       "      <td>63.7</td>\n",
       "    </tr>\n",
       "    <tr>\n",
       "      <th>3</th>\n",
       "      <td>TOKELAU</td>\n",
       "      <td>63.4</td>\n",
       "    </tr>\n",
       "    <tr>\n",
       "      <th>4</th>\n",
       "      <td>TONGA</td>\n",
       "      <td>57.6</td>\n",
       "    </tr>\n",
       "    <tr>\n",
       "      <th>...</th>\n",
       "      <td>...</td>\n",
       "      <td>...</td>\n",
       "    </tr>\n",
       "    <tr>\n",
       "      <th>186</th>\n",
       "      <td>MADAGASCAR</td>\n",
       "      <td>1.6</td>\n",
       "    </tr>\n",
       "    <tr>\n",
       "      <th>187</th>\n",
       "      <td>ERITREA</td>\n",
       "      <td>1.5</td>\n",
       "    </tr>\n",
       "    <tr>\n",
       "      <th>188</th>\n",
       "      <td>NEPAL</td>\n",
       "      <td>1.4</td>\n",
       "    </tr>\n",
       "    <tr>\n",
       "      <th>189</th>\n",
       "      <td>BANGLADESH</td>\n",
       "      <td>1.1</td>\n",
       "    </tr>\n",
       "    <tr>\n",
       "      <th>190</th>\n",
       "      <td>ETHIOPIA</td>\n",
       "      <td>1.1</td>\n",
       "    </tr>\n",
       "  </tbody>\n",
       "</table>\n",
       "<p>191 rows × 2 columns</p>\n",
       "</div>"
      ],
      "text/plain": [
       "            Country  Obesity_adult_prevalence_rate\n",
       "0    AMERICAN SAMOA                           74.6\n",
       "1             NAURU                           71.1\n",
       "2      COOK ISLANDS                           63.7\n",
       "3           TOKELAU                           63.4\n",
       "4             TONGA                           57.6\n",
       "..              ...                            ...\n",
       "186      MADAGASCAR                            1.6\n",
       "187         ERITREA                            1.5\n",
       "188           NEPAL                            1.4\n",
       "189      BANGLADESH                            1.1\n",
       "190        ETHIOPIA                            1.1\n",
       "\n",
       "[191 rows x 2 columns]"
      ]
     },
     "execution_count": 4,
     "metadata": {},
     "output_type": "execute_result"
    }
   ],
   "source": [
    "#LIMPIAR DATA 2: índice de obesidad en adultos\n",
    "\n",
    "# Reiniciar los índices después de ordenar, ya que vemos como estos mantienen las posiciones anteriores\n",
    "obesidad.reset_index(drop=True, inplace=True)\n",
    "\n",
    "# Se elimina la columna \"Pos\" y también es necesario cambiar el nombre de \"Name\" a \"Country\"\n",
    "obesidad = obesidad.drop(columns=['Pos'])\n",
    "obesidad = obesidad.rename(columns={'Name': 'Country'})\n",
    "\n",
    "# Se cambia el nombre de la columna \"Value\" al nombre la variable para esta fuente \"Obesity_adult_prevalence_rate\"\n",
    "obesidad = obesidad.rename(columns={'Value': 'Obesity_adult_prevalence_rate'})\n",
    "\n",
    "# Se realiza el cambio del texto en la columna \"Country\", de minúsculas a mayúsculas\n",
    "obesidad['Country'] = obesidad['Country'].str.upper()\n",
    "\n",
    "#Finalmente se obtiene lo siguiente\n",
    "obesidad"
   ]
  },
  {
   "cell_type": "code",
   "execution_count": 5,
   "id": "d3f2ef9a",
   "metadata": {},
   "outputs": [],
   "source": [
    "#LIMPIEZA DATA 3: El número anual de muertes por cada 100.000 personas en el grupo de edad de mayores de 65 años\n",
    "\n",
    "# Cambiar el nombre de la columna \"Entity\" a \"Country\"\n",
    "gripe = gripe.rename(columns={'Entity': 'Country'})\n",
    "\n",
    "# Cambiar el texto en la columna \"Country\" de minúsculas a mayúsculas\n",
    "gripe['Country'] = gripe['Country'].str.upper()\n",
    "\n",
    "\n",
    "# Eliminar la columna \"Year\" y \"Code\"\n",
    "gripe = gripe.drop(columns=['Year'])\n",
    "gripe = gripe.drop(columns=['Code'])\n",
    "\n",
    "\n",
    "# Cambiar el nombre de la columna \"rate over 65\" a \"Country\"\n",
    "gripe = gripe.rename(columns={'rate over65': 'numero_anual_muertes'})\n",
    "\n"
   ]
  },
  {
   "cell_type": "code",
   "execution_count": 6,
   "id": "b872c5e4",
   "metadata": {},
   "outputs": [
    {
     "data": {
      "text/html": [
       "<div>\n",
       "<style scoped>\n",
       "    .dataframe tbody tr th:only-of-type {\n",
       "        vertical-align: middle;\n",
       "    }\n",
       "\n",
       "    .dataframe tbody tr th {\n",
       "        vertical-align: top;\n",
       "    }\n",
       "\n",
       "    .dataframe thead th {\n",
       "        text-align: right;\n",
       "    }\n",
       "</style>\n",
       "<table border=\"1\" class=\"dataframe\">\n",
       "  <thead>\n",
       "    <tr style=\"text-align: right;\">\n",
       "      <th></th>\n",
       "      <th>Country</th>\n",
       "      <th>numero_anual_muertes</th>\n",
       "    </tr>\n",
       "  </thead>\n",
       "  <tbody>\n",
       "    <tr>\n",
       "      <th>0</th>\n",
       "      <td>AFGHANISTAN</td>\n",
       "      <td>62.57</td>\n",
       "    </tr>\n",
       "    <tr>\n",
       "      <th>1</th>\n",
       "      <td>AFRICA</td>\n",
       "      <td>63.92</td>\n",
       "    </tr>\n",
       "    <tr>\n",
       "      <th>2</th>\n",
       "      <td>ALBANIA</td>\n",
       "      <td>29.59</td>\n",
       "    </tr>\n",
       "    <tr>\n",
       "      <th>3</th>\n",
       "      <td>ALGERIA</td>\n",
       "      <td>54.98</td>\n",
       "    </tr>\n",
       "    <tr>\n",
       "      <th>4</th>\n",
       "      <td>AMERICAS</td>\n",
       "      <td>53.60</td>\n",
       "    </tr>\n",
       "    <tr>\n",
       "      <th>...</th>\n",
       "      <td>...</td>\n",
       "      <td>...</td>\n",
       "    </tr>\n",
       "    <tr>\n",
       "      <th>195</th>\n",
       "      <td>WESTERN PACIFIC</td>\n",
       "      <td>43.45</td>\n",
       "    </tr>\n",
       "    <tr>\n",
       "      <th>196</th>\n",
       "      <td>WORLD</td>\n",
       "      <td>53.40</td>\n",
       "    </tr>\n",
       "    <tr>\n",
       "      <th>197</th>\n",
       "      <td>YEMEN</td>\n",
       "      <td>58.73</td>\n",
       "    </tr>\n",
       "    <tr>\n",
       "      <th>198</th>\n",
       "      <td>ZAMBIA</td>\n",
       "      <td>54.65</td>\n",
       "    </tr>\n",
       "    <tr>\n",
       "      <th>199</th>\n",
       "      <td>ZIMBABWE</td>\n",
       "      <td>42.33</td>\n",
       "    </tr>\n",
       "  </tbody>\n",
       "</table>\n",
       "<p>200 rows × 2 columns</p>\n",
       "</div>"
      ],
      "text/plain": [
       "             Country  numero_anual_muertes\n",
       "0        AFGHANISTAN                 62.57\n",
       "1             AFRICA                 63.92\n",
       "2            ALBANIA                 29.59\n",
       "3            ALGERIA                 54.98\n",
       "4           AMERICAS                 53.60\n",
       "..               ...                   ...\n",
       "195  WESTERN PACIFIC                 43.45\n",
       "196            WORLD                 53.40\n",
       "197            YEMEN                 58.73\n",
       "198           ZAMBIA                 54.65\n",
       "199         ZIMBABWE                 42.33\n",
       "\n",
       "[200 rows x 2 columns]"
      ]
     },
     "execution_count": 6,
     "metadata": {},
     "output_type": "execute_result"
    }
   ],
   "source": [
    "gripe"
   ]
  },
  {
   "cell_type": "code",
   "execution_count": 7,
   "id": "35cc8291",
   "metadata": {},
   "outputs": [],
   "source": [
    "###########################################################################################################################"
   ]
  },
  {
   "cell_type": "code",
   "execution_count": 8,
   "id": "a6bcd798",
   "metadata": {},
   "outputs": [],
   "source": [
    "############################### PRIMER THEFUZZE #################################################"
   ]
  },
  {
   "cell_type": "code",
   "execution_count": 9,
   "id": "613e1236",
   "metadata": {},
   "outputs": [],
   "source": [
    "# Reviso los paises de cada una de mis datas, ver cuantos son distintos\n",
    "OnlyPoblacion=set(poblacion.Country)-set(obesidad.Country)\n",
    "OnlyObesidad=set(obesidad.Country)-set(poblacion.Country)\n"
   ]
  },
  {
   "cell_type": "code",
   "execution_count": 10,
   "id": "699da273",
   "metadata": {},
   "outputs": [
    {
     "data": {
      "text/plain": [
       "{'BAHAMAS, THE': 'BAHAMAS',\n",
       " 'CONGO, DEMOCRATIC REPUBLIC OF THE': 'DEMOCRATIC REPUBLIC OF CONGO',\n",
       " 'CONGO, REPUBLIC OF THE': 'CONGO',\n",
       " 'GAMBIA, THE': 'GAMBIA',\n",
       " 'KOREA, NORTH': 'NORTH KOREA',\n",
       " 'KOREA, SOUTH': 'SOUTH KOREA',\n",
       " 'MACEDONIA': 'NORTH MACEDONIA'}"
      ]
     },
     "execution_count": 10,
     "metadata": {},
     "output_type": "execute_result"
    }
   ],
   "source": [
    "from thefuzz import process as fz\n",
    "# Realizar los cambios\n",
    "changeMerge1={f:fz.extractOne(f, OnlyPoblacion)[0] \n",
    "                 for f in sorted(OnlyObesidad)\n",
    "                 if fz.extractOne(f, OnlyPoblacion)[1] >=90}\n",
    "changeMerge1"
   ]
  },
  {
   "cell_type": "code",
   "execution_count": 11,
   "id": "cb123454",
   "metadata": {},
   "outputs": [],
   "source": [
    "obesidad.Country.replace(to_replace=changeMerge1,inplace=True)"
   ]
  },
  {
   "cell_type": "code",
   "execution_count": 12,
   "id": "4bb192e4",
   "metadata": {},
   "outputs": [],
   "source": [
    "#######################SEGUNDO THEFUZZE ##################"
   ]
  },
  {
   "cell_type": "code",
   "execution_count": 13,
   "id": "da9a396f",
   "metadata": {},
   "outputs": [
    {
     "data": {
      "text/plain": [
       "[('BURMA', ('BERMUDA', 67)),\n",
       " ('CABO VERDE', ('CAPE VERDE', 80)),\n",
       " ('CZECH REPUBLIC', ('CZECHIA', 64)),\n",
       " ('MICRONESIA, FEDERATED STATES OF', ('ISLE OF MAN', 86)),\n",
       " ('SWAZILAND', ('TAIWAN', 60)),\n",
       " ('TIMOR-LESTE', ('EAST TIMOR', 82)),\n",
       " ('TOKELAU', ('EUROPEAN UNION (27)', 51))]"
      ]
     },
     "execution_count": 13,
     "metadata": {},
     "output_type": "execute_result"
    }
   ],
   "source": [
    "#segundo filtro\n",
    "OnlyPoblacion=set(poblacion.Country)-set(obesidad.Country)\n",
    "OnlyObesidad=set(obesidad.Country)-set(poblacion.Country)\n",
    "[(f,fz.extractOne(f, OnlyPoblacion)) for f in sorted(OnlyObesidad)]"
   ]
  },
  {
   "cell_type": "code",
   "execution_count": 14,
   "id": "a70a104f",
   "metadata": {},
   "outputs": [],
   "source": [
    "changeMerge2={f:fz.extractOne(f, OnlyPoblacion)[0] \n",
    "                 for f in sorted(OnlyObesidad)\n",
    "                 if 74<=fz.extractOne(f, OnlyPoblacion)[1]}"
   ]
  },
  {
   "cell_type": "code",
   "execution_count": 15,
   "id": "6d5edd11",
   "metadata": {},
   "outputs": [
    {
     "data": {
      "text/plain": [
       "{'CABO VERDE': 'CAPE VERDE',\n",
       " 'MICRONESIA, FEDERATED STATES OF': 'ISLE OF MAN',\n",
       " 'TIMOR-LESTE': 'EAST TIMOR'}"
      ]
     },
     "execution_count": 15,
     "metadata": {},
     "output_type": "execute_result"
    }
   ],
   "source": [
    "changeMerge2"
   ]
  },
  {
   "cell_type": "code",
   "execution_count": 16,
   "id": "5a9c288a",
   "metadata": {},
   "outputs": [],
   "source": [
    "obesidad.Country.replace(to_replace=changeMerge2,inplace=True)"
   ]
  },
  {
   "cell_type": "code",
   "execution_count": 17,
   "id": "04ae1d12",
   "metadata": {},
   "outputs": [],
   "source": [
    "########################## TERCER THEFUZZE ##################################################"
   ]
  },
  {
   "cell_type": "code",
   "execution_count": 18,
   "id": "c8241c2f",
   "metadata": {
    "scrolled": true
   },
   "outputs": [
    {
     "data": {
      "text/plain": [
       "[('BURMA', ('BERMUDA', 67)),\n",
       " ('CZECH REPUBLIC', ('CZECHIA', 64)),\n",
       " ('SWAZILAND', ('TAIWAN', 60)),\n",
       " ('TOKELAU', ('EUROPEAN UNION (27)', 51))]"
      ]
     },
     "execution_count": 18,
     "metadata": {},
     "output_type": "execute_result"
    }
   ],
   "source": [
    "OnlyPoblacion=set(poblacion.Country)-set(obesidad.Country)\n",
    "OnlyObesidad=set(obesidad.Country)-set(poblacion.Country)\n",
    "[(f,fz.extractOne(f, OnlyPoblacion)) for f in sorted(OnlyObesidad)]"
   ]
  },
  {
   "cell_type": "code",
   "execution_count": 19,
   "id": "f3fff32b",
   "metadata": {},
   "outputs": [],
   "source": [
    "changesMerge3={f:fz.extractOne(f, OnlyPoblacion)[0] \n",
    "                 for f in sorted(OnlyObesidad)\n",
    "                 if 54==fz.extractOne(f, OnlyPoblacion)[1]}"
   ]
  },
  {
   "cell_type": "code",
   "execution_count": 20,
   "id": "4896db07",
   "metadata": {},
   "outputs": [
    {
     "data": {
      "text/plain": [
       "{}"
      ]
     },
     "execution_count": 20,
     "metadata": {},
     "output_type": "execute_result"
    }
   ],
   "source": [
    "changesMerge3"
   ]
  },
  {
   "cell_type": "code",
   "execution_count": 22,
   "id": "a521444c",
   "metadata": {},
   "outputs": [],
   "source": [
    "obesidad.Country.replace(to_replace=changeMerge2,inplace=True)"
   ]
  },
  {
   "cell_type": "code",
   "execution_count": 23,
   "id": "fde2cb76",
   "metadata": {
    "scrolled": true
   },
   "outputs": [
    {
     "data": {
      "text/html": [
       "<div>\n",
       "<style scoped>\n",
       "    .dataframe tbody tr th:only-of-type {\n",
       "        vertical-align: middle;\n",
       "    }\n",
       "\n",
       "    .dataframe tbody tr th {\n",
       "        vertical-align: top;\n",
       "    }\n",
       "\n",
       "    .dataframe thead th {\n",
       "        text-align: right;\n",
       "    }\n",
       "</style>\n",
       "<table border=\"1\" class=\"dataframe\">\n",
       "  <thead>\n",
       "    <tr style=\"text-align: right;\">\n",
       "      <th></th>\n",
       "      <th>Country</th>\n",
       "      <th>Population_in_2020</th>\n",
       "      <th>Obesity_adult_prevalence_rate</th>\n",
       "    </tr>\n",
       "  </thead>\n",
       "  <tbody>\n",
       "    <tr>\n",
       "      <th>0</th>\n",
       "      <td>AFGHANISTAN</td>\n",
       "      <td>38972236.0</td>\n",
       "      <td>2.2</td>\n",
       "    </tr>\n",
       "    <tr>\n",
       "      <th>1</th>\n",
       "      <td>ALBANIA</td>\n",
       "      <td>2866850.0</td>\n",
       "      <td>21.3</td>\n",
       "    </tr>\n",
       "    <tr>\n",
       "      <th>2</th>\n",
       "      <td>ALGERIA</td>\n",
       "      <td>43451668.0</td>\n",
       "      <td>16.0</td>\n",
       "    </tr>\n",
       "    <tr>\n",
       "      <th>3</th>\n",
       "      <td>AMERICAN SAMOA</td>\n",
       "      <td>46216.0</td>\n",
       "      <td>74.6</td>\n",
       "    </tr>\n",
       "    <tr>\n",
       "      <th>4</th>\n",
       "      <td>ANDORRA</td>\n",
       "      <td>77723.0</td>\n",
       "      <td>25.2</td>\n",
       "    </tr>\n",
       "    <tr>\n",
       "      <th>...</th>\n",
       "      <td>...</td>\n",
       "      <td>...</td>\n",
       "      <td>...</td>\n",
       "    </tr>\n",
       "    <tr>\n",
       "      <th>182</th>\n",
       "      <td>VENEZUELA</td>\n",
       "      <td>28490458.0</td>\n",
       "      <td>30.3</td>\n",
       "    </tr>\n",
       "    <tr>\n",
       "      <th>183</th>\n",
       "      <td>VIETNAM</td>\n",
       "      <td>96648680.0</td>\n",
       "      <td>1.7</td>\n",
       "    </tr>\n",
       "    <tr>\n",
       "      <th>184</th>\n",
       "      <td>YEMEN</td>\n",
       "      <td>32284044.0</td>\n",
       "      <td>14.5</td>\n",
       "    </tr>\n",
       "    <tr>\n",
       "      <th>185</th>\n",
       "      <td>ZAMBIA</td>\n",
       "      <td>18927716.0</td>\n",
       "      <td>3.6</td>\n",
       "    </tr>\n",
       "    <tr>\n",
       "      <th>186</th>\n",
       "      <td>ZIMBABWE</td>\n",
       "      <td>15669663.0</td>\n",
       "      <td>7.0</td>\n",
       "    </tr>\n",
       "  </tbody>\n",
       "</table>\n",
       "<p>187 rows × 3 columns</p>\n",
       "</div>"
      ],
      "text/plain": [
       "            Country  Population_in_2020  Obesity_adult_prevalence_rate\n",
       "0       AFGHANISTAN          38972236.0                            2.2\n",
       "1           ALBANIA           2866850.0                           21.3\n",
       "2           ALGERIA          43451668.0                           16.0\n",
       "3    AMERICAN SAMOA             46216.0                           74.6\n",
       "4           ANDORRA             77723.0                           25.2\n",
       "..              ...                 ...                            ...\n",
       "182       VENEZUELA          28490458.0                           30.3\n",
       "183         VIETNAM          96648680.0                            1.7\n",
       "184           YEMEN          32284044.0                           14.5\n",
       "185          ZAMBIA          18927716.0                            3.6\n",
       "186        ZIMBABWE          15669663.0                            7.0\n",
       "\n",
       "[187 rows x 3 columns]"
      ]
     },
     "execution_count": 23,
     "metadata": {},
     "output_type": "execute_result"
    }
   ],
   "source": [
    "#Realizaré el primer merge entre mi dos de mis datas\n",
    "merge_data1=poblacion.merge(obesidad,left_on='Country',right_on='Country')\n",
    "\n",
    "# Revisando el resultado del primer merge\n",
    "merge_data1"
   ]
  },
  {
   "cell_type": "code",
   "execution_count": 24,
   "id": "d269786e",
   "metadata": {},
   "outputs": [],
   "source": [
    "########################## THEFUZZE 1 ###########################\n",
    "OnlyMergeData1=set(merge_data1.Country)-set(gripe.Country)\n",
    "OnlyGripe=set(merge_data1.Country)-set(gripe.Country)\n",
    "\n",
    "changeMergeDataP={f:fz.extractOne(f, OnlyMergeData1)[0] \n",
    "                 for f in sorted(OnlyGripe)\n",
    "                 if fz.extractOne(f, OnlyMergeData1)[1] >=90}\n"
   ]
  },
  {
   "cell_type": "code",
   "execution_count": 25,
   "id": "02000348",
   "metadata": {},
   "outputs": [
    {
     "data": {
      "text/plain": [
       "{'AMERICAN SAMOA': 'AMERICAN SAMOA',\n",
       " 'ANDORRA': 'ANDORRA',\n",
       " 'COOK ISLANDS': 'COOK ISLANDS',\n",
       " 'DOMINICA': 'DOMINICA',\n",
       " 'ISLE OF MAN': 'ISLE OF MAN',\n",
       " 'MARSHALL ISLANDS': 'MARSHALL ISLANDS',\n",
       " 'NAURU': 'NAURU',\n",
       " 'PALAU': 'PALAU',\n",
       " 'SAINT KITTS AND NEVIS': 'SAINT KITTS AND NEVIS'}"
      ]
     },
     "execution_count": 25,
     "metadata": {},
     "output_type": "execute_result"
    }
   ],
   "source": [
    "changeMergeDataP"
   ]
  },
  {
   "cell_type": "code",
   "execution_count": 26,
   "id": "cc961fcd",
   "metadata": {},
   "outputs": [],
   "source": [
    "gripe.replace(to_replace=changeMergeDataP,inplace=True)"
   ]
  },
  {
   "cell_type": "code",
   "execution_count": 27,
   "id": "479e112f",
   "metadata": {},
   "outputs": [],
   "source": [
    "################## SEGUNDO THEFUZZE ########################"
   ]
  },
  {
   "cell_type": "code",
   "execution_count": 28,
   "id": "e08f6f3c",
   "metadata": {},
   "outputs": [
    {
     "data": {
      "text/plain": [
       "[('AMERICAN SAMOA', ('AMERICAN SAMOA', 100)),\n",
       " ('ANDORRA', ('ANDORRA', 100)),\n",
       " ('COOK ISLANDS', ('COOK ISLANDS', 100)),\n",
       " ('DOMINICA', ('DOMINICA', 100)),\n",
       " ('ISLE OF MAN', ('ISLE OF MAN', 100)),\n",
       " ('MARSHALL ISLANDS', ('MARSHALL ISLANDS', 100)),\n",
       " ('NAURU', ('NAURU', 100)),\n",
       " ('PALAU', ('PALAU', 100)),\n",
       " ('SAINT KITTS AND NEVIS', ('SAINT KITTS AND NEVIS', 100))]"
      ]
     },
     "execution_count": 28,
     "metadata": {},
     "output_type": "execute_result"
    }
   ],
   "source": [
    "OnlyMergeData1=set(merge_data1.Country)-set(gripe.Country)\n",
    "OnlyGripe=set(merge_data1.Country)-set(gripe.Country)\n",
    "[(f,fz.extractOne(f, OnlyMergeData1)) for f in sorted(OnlyGripe)]"
   ]
  },
  {
   "cell_type": "code",
   "execution_count": 29,
   "id": "d78f92a1",
   "metadata": {},
   "outputs": [],
   "source": [
    "changeMergeDataP2={f:fz.extractOne(f, OnlyMergeData1)[0] \n",
    "                 for f in sorted(OnlyGripe)\n",
    "                 if 74<=fz.extractOne(f, OnlyMergeData1)[1]}"
   ]
  },
  {
   "cell_type": "code",
   "execution_count": 30,
   "id": "9be14b80",
   "metadata": {},
   "outputs": [
    {
     "data": {
      "text/plain": [
       "{'CABO VERDE': 'CAPE VERDE',\n",
       " 'MICRONESIA, FEDERATED STATES OF': 'ISLE OF MAN',\n",
       " 'TIMOR-LESTE': 'EAST TIMOR'}"
      ]
     },
     "execution_count": 30,
     "metadata": {},
     "output_type": "execute_result"
    }
   ],
   "source": [
    "changeMerge2"
   ]
  },
  {
   "cell_type": "code",
   "execution_count": 31,
   "id": "70f22b31",
   "metadata": {},
   "outputs": [],
   "source": [
    "gripe.replace(to_replace=changeMergeDataP2,inplace=True)"
   ]
  },
  {
   "cell_type": "code",
   "execution_count": 32,
   "id": "3c01848b",
   "metadata": {
    "scrolled": true
   },
   "outputs": [
    {
     "data": {
      "text/html": [
       "<div>\n",
       "<style scoped>\n",
       "    .dataframe tbody tr th:only-of-type {\n",
       "        vertical-align: middle;\n",
       "    }\n",
       "\n",
       "    .dataframe tbody tr th {\n",
       "        vertical-align: top;\n",
       "    }\n",
       "\n",
       "    .dataframe thead th {\n",
       "        text-align: right;\n",
       "    }\n",
       "</style>\n",
       "<table border=\"1\" class=\"dataframe\">\n",
       "  <thead>\n",
       "    <tr style=\"text-align: right;\">\n",
       "      <th></th>\n",
       "      <th>Country</th>\n",
       "      <th>Population_in_2020</th>\n",
       "      <th>Obesity_adult_prevalence_rate</th>\n",
       "      <th>numero_anual_muertes</th>\n",
       "    </tr>\n",
       "  </thead>\n",
       "  <tbody>\n",
       "    <tr>\n",
       "      <th>0</th>\n",
       "      <td>AFGHANISTAN</td>\n",
       "      <td>38972236.0</td>\n",
       "      <td>2.2</td>\n",
       "      <td>62.57</td>\n",
       "    </tr>\n",
       "    <tr>\n",
       "      <th>1</th>\n",
       "      <td>ALBANIA</td>\n",
       "      <td>2866850.0</td>\n",
       "      <td>21.3</td>\n",
       "      <td>29.59</td>\n",
       "    </tr>\n",
       "    <tr>\n",
       "      <th>2</th>\n",
       "      <td>ALGERIA</td>\n",
       "      <td>43451668.0</td>\n",
       "      <td>16.0</td>\n",
       "      <td>54.98</td>\n",
       "    </tr>\n",
       "    <tr>\n",
       "      <th>3</th>\n",
       "      <td>ANGOLA</td>\n",
       "      <td>33428490.0</td>\n",
       "      <td>6.4</td>\n",
       "      <td>73.83</td>\n",
       "    </tr>\n",
       "    <tr>\n",
       "      <th>4</th>\n",
       "      <td>ANTIGUA AND BARBUDA</td>\n",
       "      <td>92672.0</td>\n",
       "      <td>25.6</td>\n",
       "      <td>42.39</td>\n",
       "    </tr>\n",
       "    <tr>\n",
       "      <th>...</th>\n",
       "      <td>...</td>\n",
       "      <td>...</td>\n",
       "      <td>...</td>\n",
       "      <td>...</td>\n",
       "    </tr>\n",
       "    <tr>\n",
       "      <th>173</th>\n",
       "      <td>VENEZUELA</td>\n",
       "      <td>28490458.0</td>\n",
       "      <td>30.3</td>\n",
       "      <td>55.91</td>\n",
       "    </tr>\n",
       "    <tr>\n",
       "      <th>174</th>\n",
       "      <td>VIETNAM</td>\n",
       "      <td>96648680.0</td>\n",
       "      <td>1.7</td>\n",
       "      <td>37.39</td>\n",
       "    </tr>\n",
       "    <tr>\n",
       "      <th>175</th>\n",
       "      <td>YEMEN</td>\n",
       "      <td>32284044.0</td>\n",
       "      <td>14.5</td>\n",
       "      <td>58.73</td>\n",
       "    </tr>\n",
       "    <tr>\n",
       "      <th>176</th>\n",
       "      <td>ZAMBIA</td>\n",
       "      <td>18927716.0</td>\n",
       "      <td>3.6</td>\n",
       "      <td>54.65</td>\n",
       "    </tr>\n",
       "    <tr>\n",
       "      <th>177</th>\n",
       "      <td>ZIMBABWE</td>\n",
       "      <td>15669663.0</td>\n",
       "      <td>7.0</td>\n",
       "      <td>42.33</td>\n",
       "    </tr>\n",
       "  </tbody>\n",
       "</table>\n",
       "<p>178 rows × 4 columns</p>\n",
       "</div>"
      ],
      "text/plain": [
       "                 Country  Population_in_2020  Obesity_adult_prevalence_rate  \\\n",
       "0            AFGHANISTAN          38972236.0                            2.2   \n",
       "1                ALBANIA           2866850.0                           21.3   \n",
       "2                ALGERIA          43451668.0                           16.0   \n",
       "3                 ANGOLA          33428490.0                            6.4   \n",
       "4    ANTIGUA AND BARBUDA             92672.0                           25.6   \n",
       "..                   ...                 ...                            ...   \n",
       "173            VENEZUELA          28490458.0                           30.3   \n",
       "174              VIETNAM          96648680.0                            1.7   \n",
       "175                YEMEN          32284044.0                           14.5   \n",
       "176               ZAMBIA          18927716.0                            3.6   \n",
       "177             ZIMBABWE          15669663.0                            7.0   \n",
       "\n",
       "     numero_anual_muertes  \n",
       "0                   62.57  \n",
       "1                   29.59  \n",
       "2                   54.98  \n",
       "3                   73.83  \n",
       "4                   42.39  \n",
       "..                    ...  \n",
       "173                 55.91  \n",
       "174                 37.39  \n",
       "175                 58.73  \n",
       "176                 54.65  \n",
       "177                 42.33  \n",
       "\n",
       "[178 rows x 4 columns]"
      ]
     },
     "execution_count": 32,
     "metadata": {},
     "output_type": "execute_result"
    }
   ],
   "source": [
    "# Como las datas que debo hacer son cuatro, debo realizar un nuevo merge, esta vez entre otra de mis datas\n",
    "# y el realizado anteriormente\n",
    "merge_data2=merge_data1.merge(gripe,left_on='Country',right_on='Country')\n",
    "\n",
    "#revisando el resultado de este segundo merge\n",
    "merge_data2"
   ]
  },
  {
   "cell_type": "code",
   "execution_count": null,
   "id": "927ae1e9",
   "metadata": {},
   "outputs": [],
   "source": [
    "######## PRIMER THEFUZZE ###########################"
   ]
  },
  {
   "cell_type": "code",
   "execution_count": null,
   "id": "7c593fd8",
   "metadata": {},
   "outputs": [],
   "source": [
    "# Viendo las diferencias\n",
    "OnlyMergeData2=set(merge_data2.Country)-set(country_isos.Country)\n",
    "OnlyIsos=set(country_isos.Country)-set(merge_data2.Country)\n",
    "\n",
    "changeMergeDataFinal={f:fz.extractOne(f, OnlyMergeData2)[0] \n",
    "                 for f in sorted(OnlyIsos)\n",
    "                 if fz.extractOne(f, OnlyMergeData2)[1] >=90}"
   ]
  },
  {
   "cell_type": "code",
   "execution_count": null,
   "id": "dcd2ded6",
   "metadata": {},
   "outputs": [],
   "source": [
    "changeMergeDataFinal"
   ]
  },
  {
   "cell_type": "code",
   "execution_count": null,
   "id": "16866393",
   "metadata": {},
   "outputs": [],
   "source": [
    "country_isos.replace(to_replace=changeMergeDataFinal,inplace=True)"
   ]
  },
  {
   "cell_type": "code",
   "execution_count": null,
   "id": "b5f30002",
   "metadata": {},
   "outputs": [],
   "source": [
    "####### SEGUNDO THEFUZZE #####"
   ]
  },
  {
   "cell_type": "code",
   "execution_count": null,
   "id": "0cef7182",
   "metadata": {},
   "outputs": [],
   "source": [
    "OnlyMergeData2=set(merge_data2.Country)-set(country_isos.Country)\n",
    "OnlyIsos=set(country_isos.Country)-set(merge_data2.Country)"
   ]
  },
  {
   "cell_type": "code",
   "execution_count": null,
   "id": "e7c695e9",
   "metadata": {},
   "outputs": [],
   "source": [
    "changeMergeDataFinal2={f:fz.extractOne(f, OnlyMergeData2)[0] \n",
    "                 for f in sorted(OnlyIsos)\n",
    "                 if 74<=fz.extractOne(f, OnlyMergeData2)[1]}"
   ]
  },
  {
   "cell_type": "code",
   "execution_count": null,
   "id": "8d841a64",
   "metadata": {},
   "outputs": [],
   "source": [
    "# Finalmente, tenemos el merge del resultado de la unión de mis propias datas con las brindadas por el profesor \n",
    "merge_final=country_isos.merge(merge_data2,left_on='Country',right_on='Country')\n",
    "\n",
    "# Revisando nuestro resultado, tenemos\n",
    "merge_final"
   ]
  },
  {
   "cell_type": "code",
   "execution_count": null,
   "id": "e6061023",
   "metadata": {},
   "outputs": [],
   "source": [
    "#creamos una copia para realizar una vista de lo que serían la data si eliminamos los países que contienen NaN en alguna\n",
    "# de sus celdas\n",
    "merge_final_copia = merge_final.copy()\n",
    "filas_con_nan = merge_final_copia.isna().any(axis=1)\n",
    "filas_con_nan = merge_final_copia[filas_con_nan]\n",
    "\n",
    "filas_con_nan\n",
    "merge_final_copia.dropna(axis=0, how='any', inplace=True)"
   ]
  },
  {
   "cell_type": "code",
   "execution_count": null,
   "id": "7a5dcb09",
   "metadata": {},
   "outputs": [],
   "source": [
    "# Ahora, con toda mi data, puedo realizar la limpieza final\n",
    "\n",
    "# Quiero asegurarme que los datos en mi columnas sean de un tipo de valor coherente (Números)\n",
    "# por lo que es necesario deshacerme de valores como NaN, que pueden ser un obstáculo en la aplicación de mi nueva data\n",
    "merge_final.replace(np.nan,0,inplace=True) \n",
    "\n",
    "# Revisando el merge final\n",
    "merge_final"
   ]
  },
  {
   "cell_type": "code",
   "execution_count": null,
   "id": "f3b0dc47",
   "metadata": {},
   "outputs": [],
   "source": [
    "# Cambiando el tipo de dato de las celdas de las columnas de mi data\n",
    "merge_final['Obesity_adult_prevalence_rate'] = merge_final['Obesity_adult_prevalence_rate'].astype(str)\n",
    "merge_final['Population_in_2020'] = merge_final['Population_in_2020'].astype(str)\n",
    "merge_final['numero_anual_muertes'] = merge_final['numero_anual_muertes'].astype(str)\n",
    "\n",
    "# Nos aseguramos de eliminar los espacios en blanco\n",
    "merge_final.Obesity_adult_prevalence_rate.str.contains(pat=r'\\d',regex=True)\n",
    "merge_final.Population_in_2020.str.contains(pat=r'\\d',regex=True)\n",
    "merge_final.numero_anual_muertes.str.contains(pat=r'\\d',regex=True)\n",
    "\n",
    "# Verificamos la aplicación de los códigos\n",
    "merge_final"
   ]
  },
  {
   "cell_type": "code",
   "execution_count": null,
   "id": "47ff3ebc",
   "metadata": {},
   "outputs": [],
   "source": [
    "# Reemplazamos los valores en blanco, por guiones bajos\n",
    "merge_final.rename(columns={'Officialstatename': 'Official_State_Name'}, inplace=True)\n",
    "merge_final['Official_State_Name']=merge_final['Official_State_Name'].str.replace(' ','_',regex=True)\n",
    "merge_final['Country']=merge_final['Country'].str.replace(' ','_',regex=True)\n",
    "\n",
    "#Revisamos nuestra data\n",
    "merge_final"
   ]
  },
  {
   "cell_type": "code",
   "execution_count": null,
   "id": "4835dc74",
   "metadata": {
    "scrolled": true
   },
   "outputs": [],
   "source": [
    "# Eliminar espacios en blanco\n",
    "merge_final=merge_final.rename(columns=lambda x:x.strip())\n",
    "\n",
    "# Finalmente, nuestro resultado final es el siguiente, considerando que los valores de NaN pasan a ser 0\n",
    "merge_final"
   ]
  },
  {
   "cell_type": "code",
   "execution_count": null,
   "id": "9df5d3b6",
   "metadata": {},
   "outputs": [],
   "source": [
    "merge_final.info()"
   ]
  },
  {
   "cell_type": "code",
   "execution_count": null,
   "id": "f3c5b11a",
   "metadata": {},
   "outputs": [],
   "source": [
    "# Arreglando el Dtype de algunas columnas\n",
    "merge_final['Population_in_2020'] = merge_final['Population_in_2020'].astype('float64')\n",
    "merge_final['Obesity_adult_prevalence_rate'] = merge_final['Obesity_adult_prevalence_rate'].astype('float64')\n",
    "merge_final['numero_anual_muertes'] = merge_final['numero_anual_muertes'].astype('float64')"
   ]
  },
  {
   "cell_type": "code",
   "execution_count": null,
   "id": "d215a3d7",
   "metadata": {},
   "outputs": [],
   "source": [
    "merge_final.info()"
   ]
  },
  {
   "cell_type": "code",
   "execution_count": null,
   "id": "01ee4fdf",
   "metadata": {},
   "outputs": [],
   "source": [
    "merge_final_copia.rename(columns={'Officialstatename': 'Official_State_Name'}, inplace=True)\n",
    "merge_final_copia['Official_State_Name']=merge_final_copia['Official_State_Name'].str.replace(' ','_',regex=True)\n",
    "merge_final_copia['Country']=merge_final_copia['Country'].str.replace(' ','_',regex=True)\n",
    "merge_final_copia['Population_in_2020'] = merge_final_copia['Population_in_2020'].astype('float64')\n",
    "merge_final_copia['Obesity_adult_prevalence_rate'] = merge_final_copia['Obesity_adult_prevalence_rate'].astype('float64')\n",
    "merge_final_copia['numero_anual_muertes'] = merge_final_copia['numero_anual_muertes'].astype('float64')\n",
    "merge_final_copia.info()"
   ]
  },
  {
   "cell_type": "code",
   "execution_count": null,
   "id": "9a0f181c",
   "metadata": {},
   "outputs": [],
   "source": [
    "merge_final_copia"
   ]
  },
  {
   "cell_type": "code",
   "execution_count": null,
   "id": "5906eab6",
   "metadata": {},
   "outputs": [],
   "source": [
    "# Se tienen dos resultados merge_final_copia y merge_final:\n",
    "\n",
    "# Considerando eliminar los países que contenían NaN\n",
    "merge_final_copia"
   ]
  },
  {
   "cell_type": "code",
   "execution_count": null,
   "id": "8a57520e",
   "metadata": {},
   "outputs": [],
   "source": [
    "# considerando el valor de NaN como 0\n",
    "merge_final"
   ]
  },
  {
   "cell_type": "code",
   "execution_count": null,
   "id": "dfcca020",
   "metadata": {},
   "outputs": [],
   "source": [
    "merge_final_copia.reset_index(drop=True, inplace=True)\n"
   ]
  },
  {
   "cell_type": "code",
   "execution_count": null,
   "id": "e4aa0645",
   "metadata": {},
   "outputs": [],
   "source": [
    "merge_final_copia"
   ]
  }
 ],
 "metadata": {
  "kernelspec": {
   "display_name": "Python 3 (ipykernel)",
   "language": "python",
   "name": "python3"
  },
  "language_info": {
   "codemirror_mode": {
    "name": "ipython",
    "version": 3
   },
   "file_extension": ".py",
   "mimetype": "text/x-python",
   "name": "python",
   "nbconvert_exporter": "python",
   "pygments_lexer": "ipython3",
   "version": "3.11.4"
  }
 },
 "nbformat": 4,
 "nbformat_minor": 5
}
