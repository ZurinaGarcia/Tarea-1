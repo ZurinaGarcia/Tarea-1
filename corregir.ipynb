{
 "cells": [
  {
   "cell_type": "code",
   "execution_count": 1,
   "id": "fda01450",
   "metadata": {},
   "outputs": [],
   "source": [
    "import os, pandas as pd\n",
    "import numpy as np\n",
    "\n",
    "\n",
    "# Leer los archivos de datos en dataframes\n",
    "\n",
    "country_isos=pd.read_excel(os.path.join('country_isos.xlsx'))\n",
    "poblacion=pd.read_csv(os.path.join(\"co2.csv\"))\n",
    "obesidad = pd.read_csv(os.path.join(\"obesidad.csv\"))\n",
    "gripe = pd.read_csv(os.path.join(\"annual-mortality-rate-from-seasonal-influenza-ages-65.csv\"))"
   ]
  },
  {
   "cell_type": "code",
   "execution_count": 2,
   "id": "0f1d2070",
   "metadata": {},
   "outputs": [],
   "source": [
    "#LIMPIEZA DATA 1: Si mi variable seleccionada es la población por cada país en el año 2020\n",
    "\n",
    "# Como mi fuente me brinda información de diversas fechas, porcedo a filtrar los datos de 2020 directamente en el DataFrame original\n",
    "poblacion = poblacion[poblacion['year'] == 2020]\n",
    "\n",
    "# Cambio en la selección de columnas específicas, por el nombre de columna \"population\"\n",
    "poblacion = poblacion[['country', 'population']].rename(columns={'population': 'Population_in_2020'})\n",
    "poblacion.reset_index(drop=True, inplace=True)\n",
    "\n",
    "# Se hace cambio del nombre de la columna \"country\" a \"Country\" en el DataFrame original\n",
    "poblacion.rename(columns={'country': 'Country'}, inplace=True)\n",
    "\n",
    "# Se realiza el cambio del texto en la columna \"Country\" de minúsculas a mayúsculas en el DataFrame original\n",
    "poblacion['Country'] = poblacion['Country'].str.upper()\n",
    "\n"
   ]
  },
  {
   "cell_type": "code",
   "execution_count": 3,
   "id": "5ef946f0",
   "metadata": {},
   "outputs": [
    {
     "data": {
      "text/html": [
       "<div>\n",
       "<style scoped>\n",
       "    .dataframe tbody tr th:only-of-type {\n",
       "        vertical-align: middle;\n",
       "    }\n",
       "\n",
       "    .dataframe tbody tr th {\n",
       "        vertical-align: top;\n",
       "    }\n",
       "\n",
       "    .dataframe thead th {\n",
       "        text-align: right;\n",
       "    }\n",
       "</style>\n",
       "<table border=\"1\" class=\"dataframe\">\n",
       "  <thead>\n",
       "    <tr style=\"text-align: right;\">\n",
       "      <th></th>\n",
       "      <th>Country</th>\n",
       "      <th>Population_in_2020</th>\n",
       "    </tr>\n",
       "  </thead>\n",
       "  <tbody>\n",
       "    <tr>\n",
       "      <th>0</th>\n",
       "      <td>AFGHANISTAN</td>\n",
       "      <td>3.897224e+07</td>\n",
       "    </tr>\n",
       "    <tr>\n",
       "      <th>1</th>\n",
       "      <td>AFRICA</td>\n",
       "      <td>1.360677e+09</td>\n",
       "    </tr>\n",
       "    <tr>\n",
       "      <th>2</th>\n",
       "      <td>AFRICA (GCP)</td>\n",
       "      <td>NaN</td>\n",
       "    </tr>\n",
       "    <tr>\n",
       "      <th>3</th>\n",
       "      <td>ALAND ISLANDS</td>\n",
       "      <td>NaN</td>\n",
       "    </tr>\n",
       "    <tr>\n",
       "      <th>4</th>\n",
       "      <td>ALBANIA</td>\n",
       "      <td>2.866850e+06</td>\n",
       "    </tr>\n",
       "    <tr>\n",
       "      <th>...</th>\n",
       "      <td>...</td>\n",
       "      <td>...</td>\n",
       "    </tr>\n",
       "    <tr>\n",
       "      <th>266</th>\n",
       "      <td>WESTERN SAHARA</td>\n",
       "      <td>5.560600e+05</td>\n",
       "    </tr>\n",
       "    <tr>\n",
       "      <th>267</th>\n",
       "      <td>WORLD</td>\n",
       "      <td>7.840953e+09</td>\n",
       "    </tr>\n",
       "    <tr>\n",
       "      <th>268</th>\n",
       "      <td>YEMEN</td>\n",
       "      <td>3.228404e+07</td>\n",
       "    </tr>\n",
       "    <tr>\n",
       "      <th>269</th>\n",
       "      <td>ZAMBIA</td>\n",
       "      <td>1.892772e+07</td>\n",
       "    </tr>\n",
       "    <tr>\n",
       "      <th>270</th>\n",
       "      <td>ZIMBABWE</td>\n",
       "      <td>1.566966e+07</td>\n",
       "    </tr>\n",
       "  </tbody>\n",
       "</table>\n",
       "<p>271 rows × 2 columns</p>\n",
       "</div>"
      ],
      "text/plain": [
       "            Country  Population_in_2020\n",
       "0       AFGHANISTAN        3.897224e+07\n",
       "1            AFRICA        1.360677e+09\n",
       "2      AFRICA (GCP)                 NaN\n",
       "3     ALAND ISLANDS                 NaN\n",
       "4           ALBANIA        2.866850e+06\n",
       "..              ...                 ...\n",
       "266  WESTERN SAHARA        5.560600e+05\n",
       "267           WORLD        7.840953e+09\n",
       "268           YEMEN        3.228404e+07\n",
       "269          ZAMBIA        1.892772e+07\n",
       "270        ZIMBABWE        1.566966e+07\n",
       "\n",
       "[271 rows x 2 columns]"
      ]
     },
     "execution_count": 3,
     "metadata": {},
     "output_type": "execute_result"
    }
   ],
   "source": [
    "#Revisando si la primera data está bien, obtenemos el siguiente resultado\n",
    "poblacion"
   ]
  },
  {
   "cell_type": "code",
   "execution_count": 4,
   "id": "534695e9",
   "metadata": {},
   "outputs": [
    {
     "data": {
      "text/html": [
       "<div>\n",
       "<style scoped>\n",
       "    .dataframe tbody tr th:only-of-type {\n",
       "        vertical-align: middle;\n",
       "    }\n",
       "\n",
       "    .dataframe tbody tr th {\n",
       "        vertical-align: top;\n",
       "    }\n",
       "\n",
       "    .dataframe thead th {\n",
       "        text-align: right;\n",
       "    }\n",
       "</style>\n",
       "<table border=\"1\" class=\"dataframe\">\n",
       "  <thead>\n",
       "    <tr style=\"text-align: right;\">\n",
       "      <th></th>\n",
       "      <th>Country</th>\n",
       "      <th>Obesity_adult_prevalence_rate</th>\n",
       "    </tr>\n",
       "  </thead>\n",
       "  <tbody>\n",
       "    <tr>\n",
       "      <th>0</th>\n",
       "      <td>AMERICAN SAMOA</td>\n",
       "      <td>74.6</td>\n",
       "    </tr>\n",
       "    <tr>\n",
       "      <th>1</th>\n",
       "      <td>NAURU</td>\n",
       "      <td>71.1</td>\n",
       "    </tr>\n",
       "    <tr>\n",
       "      <th>2</th>\n",
       "      <td>COOK ISLANDS</td>\n",
       "      <td>63.7</td>\n",
       "    </tr>\n",
       "    <tr>\n",
       "      <th>3</th>\n",
       "      <td>TOKELAU</td>\n",
       "      <td>63.4</td>\n",
       "    </tr>\n",
       "    <tr>\n",
       "      <th>4</th>\n",
       "      <td>TONGA</td>\n",
       "      <td>57.6</td>\n",
       "    </tr>\n",
       "    <tr>\n",
       "      <th>...</th>\n",
       "      <td>...</td>\n",
       "      <td>...</td>\n",
       "    </tr>\n",
       "    <tr>\n",
       "      <th>186</th>\n",
       "      <td>MADAGASCAR</td>\n",
       "      <td>1.6</td>\n",
       "    </tr>\n",
       "    <tr>\n",
       "      <th>187</th>\n",
       "      <td>ERITREA</td>\n",
       "      <td>1.5</td>\n",
       "    </tr>\n",
       "    <tr>\n",
       "      <th>188</th>\n",
       "      <td>NEPAL</td>\n",
       "      <td>1.4</td>\n",
       "    </tr>\n",
       "    <tr>\n",
       "      <th>189</th>\n",
       "      <td>BANGLADESH</td>\n",
       "      <td>1.1</td>\n",
       "    </tr>\n",
       "    <tr>\n",
       "      <th>190</th>\n",
       "      <td>ETHIOPIA</td>\n",
       "      <td>1.1</td>\n",
       "    </tr>\n",
       "  </tbody>\n",
       "</table>\n",
       "<p>191 rows × 2 columns</p>\n",
       "</div>"
      ],
      "text/plain": [
       "            Country  Obesity_adult_prevalence_rate\n",
       "0    AMERICAN SAMOA                           74.6\n",
       "1             NAURU                           71.1\n",
       "2      COOK ISLANDS                           63.7\n",
       "3           TOKELAU                           63.4\n",
       "4             TONGA                           57.6\n",
       "..              ...                            ...\n",
       "186      MADAGASCAR                            1.6\n",
       "187         ERITREA                            1.5\n",
       "188           NEPAL                            1.4\n",
       "189      BANGLADESH                            1.1\n",
       "190        ETHIOPIA                            1.1\n",
       "\n",
       "[191 rows x 2 columns]"
      ]
     },
     "execution_count": 4,
     "metadata": {},
     "output_type": "execute_result"
    }
   ],
   "source": [
    "#LIMPIAR DATA 2: índice de obesidad en adultos\n",
    "\n",
    "# Reiniciar los índices después de ordenar, ya que vemos como estos mantienen las posiciones anteriores\n",
    "obesidad.reset_index(drop=True, inplace=True)\n",
    "\n",
    "# Se elimina la columna \"Pos\" y también es necesario cambiar el nombre de \"Name\" a \"Country\"\n",
    "obesidad = obesidad.drop(columns=['Pos'])\n",
    "obesidad = obesidad.rename(columns={'Name': 'Country'})\n",
    "\n",
    "# Se cambia el nombre de la columna \"Value\" al nombre la variable para esta fuente \"Obesity_adult_prevalence_rate\"\n",
    "obesidad = obesidad.rename(columns={'Value': 'Obesity_adult_prevalence_rate'})\n",
    "\n",
    "# Se realiza el cambio del texto en la columna \"Country\", de minúsculas a mayúsculas\n",
    "obesidad['Country'] = obesidad['Country'].str.upper()\n",
    "\n",
    "#Finalmente se obtiene lo siguiente\n",
    "obesidad"
   ]
  },
  {
   "cell_type": "code",
   "execution_count": 5,
   "id": "d3f2ef9a",
   "metadata": {},
   "outputs": [],
   "source": [
    "#LIMPIEZA DATA 3: El número anual de muertes por cada 100.000 personas en el grupo de edad de mayores de 65 años\n",
    "\n",
    "# Cambiar el nombre de la columna \"Entity\" a \"Country\"\n",
    "gripe = gripe.rename(columns={'Entity': 'Country'})\n",
    "\n",
    "# Cambiar el texto en la columna \"Country\" de minúsculas a mayúsculas\n",
    "gripe['Country'] = gripe['Country'].str.upper()\n",
    "\n",
    "\n",
    "# Eliminar la columna \"Year\" y \"Code\"\n",
    "gripe = gripe.drop(columns=['Year'])\n",
    "gripe = gripe.drop(columns=['Code'])\n",
    "\n",
    "\n",
    "# Cambiar el nombre de la columna \"rate over 65\" a \"Country\"\n",
    "gripe = gripe.rename(columns={'rate over65': 'numero_anual_muertes'})\n",
    "\n"
   ]
  },
  {
   "cell_type": "code",
   "execution_count": 6,
   "id": "b872c5e4",
   "metadata": {},
   "outputs": [
    {
     "data": {
      "text/html": [
       "<div>\n",
       "<style scoped>\n",
       "    .dataframe tbody tr th:only-of-type {\n",
       "        vertical-align: middle;\n",
       "    }\n",
       "\n",
       "    .dataframe tbody tr th {\n",
       "        vertical-align: top;\n",
       "    }\n",
       "\n",
       "    .dataframe thead th {\n",
       "        text-align: right;\n",
       "    }\n",
       "</style>\n",
       "<table border=\"1\" class=\"dataframe\">\n",
       "  <thead>\n",
       "    <tr style=\"text-align: right;\">\n",
       "      <th></th>\n",
       "      <th>Country</th>\n",
       "      <th>numero_anual_muertes</th>\n",
       "    </tr>\n",
       "  </thead>\n",
       "  <tbody>\n",
       "    <tr>\n",
       "      <th>0</th>\n",
       "      <td>AFGHANISTAN</td>\n",
       "      <td>62.57</td>\n",
       "    </tr>\n",
       "    <tr>\n",
       "      <th>1</th>\n",
       "      <td>AFRICA</td>\n",
       "      <td>63.92</td>\n",
       "    </tr>\n",
       "    <tr>\n",
       "      <th>2</th>\n",
       "      <td>ALBANIA</td>\n",
       "      <td>29.59</td>\n",
       "    </tr>\n",
       "    <tr>\n",
       "      <th>3</th>\n",
       "      <td>ALGERIA</td>\n",
       "      <td>54.98</td>\n",
       "    </tr>\n",
       "    <tr>\n",
       "      <th>4</th>\n",
       "      <td>AMERICAS</td>\n",
       "      <td>53.60</td>\n",
       "    </tr>\n",
       "    <tr>\n",
       "      <th>...</th>\n",
       "      <td>...</td>\n",
       "      <td>...</td>\n",
       "    </tr>\n",
       "    <tr>\n",
       "      <th>195</th>\n",
       "      <td>WESTERN PACIFIC</td>\n",
       "      <td>43.45</td>\n",
       "    </tr>\n",
       "    <tr>\n",
       "      <th>196</th>\n",
       "      <td>WORLD</td>\n",
       "      <td>53.40</td>\n",
       "    </tr>\n",
       "    <tr>\n",
       "      <th>197</th>\n",
       "      <td>YEMEN</td>\n",
       "      <td>58.73</td>\n",
       "    </tr>\n",
       "    <tr>\n",
       "      <th>198</th>\n",
       "      <td>ZAMBIA</td>\n",
       "      <td>54.65</td>\n",
       "    </tr>\n",
       "    <tr>\n",
       "      <th>199</th>\n",
       "      <td>ZIMBABWE</td>\n",
       "      <td>42.33</td>\n",
       "    </tr>\n",
       "  </tbody>\n",
       "</table>\n",
       "<p>200 rows × 2 columns</p>\n",
       "</div>"
      ],
      "text/plain": [
       "             Country  numero_anual_muertes\n",
       "0        AFGHANISTAN                 62.57\n",
       "1             AFRICA                 63.92\n",
       "2            ALBANIA                 29.59\n",
       "3            ALGERIA                 54.98\n",
       "4           AMERICAS                 53.60\n",
       "..               ...                   ...\n",
       "195  WESTERN PACIFIC                 43.45\n",
       "196            WORLD                 53.40\n",
       "197            YEMEN                 58.73\n",
       "198           ZAMBIA                 54.65\n",
       "199         ZIMBABWE                 42.33\n",
       "\n",
       "[200 rows x 2 columns]"
      ]
     },
     "execution_count": 6,
     "metadata": {},
     "output_type": "execute_result"
    }
   ],
   "source": [
    "gripe"
   ]
  },
  {
   "cell_type": "code",
   "execution_count": 7,
   "id": "8e8fe3b5",
   "metadata": {},
   "outputs": [],
   "source": [
    "###########################################################################################################################"
   ]
  },
  {
   "cell_type": "code",
   "execution_count": 8,
   "id": "f84fad1f",
   "metadata": {},
   "outputs": [],
   "source": [
    "############################### PRIMER THEFUZZE #################################################"
   ]
  },
  {
   "cell_type": "code",
   "execution_count": 9,
   "id": "c12a825f",
   "metadata": {},
   "outputs": [],
   "source": [
    "# Reviso los paises de cada una de mis datas, ver cuantos son distintos\n",
    "OnlyPoblacion=set(poblacion.Country)-set(obesidad.Country)\n",
    "OnlyObesidad=set(obesidad.Country)-set(poblacion.Country)\n"
   ]
  },
  {
   "cell_type": "code",
   "execution_count": 10,
   "id": "0b46beb7",
   "metadata": {},
   "outputs": [
    {
     "data": {
      "text/plain": [
       "{'BAHAMAS, THE': 'BAHAMAS',\n",
       " 'CONGO, DEMOCRATIC REPUBLIC OF THE': 'DEMOCRATIC REPUBLIC OF CONGO',\n",
       " 'CONGO, REPUBLIC OF THE': 'CONGO',\n",
       " 'GAMBIA, THE': 'GAMBIA',\n",
       " 'KOREA, NORTH': 'NORTH KOREA',\n",
       " 'KOREA, SOUTH': 'SOUTH KOREA',\n",
       " 'MACEDONIA': 'NORTH MACEDONIA'}"
      ]
     },
     "execution_count": 10,
     "metadata": {},
     "output_type": "execute_result"
    }
   ],
   "source": [
    "from thefuzz import process as fz\n",
    "# Realizar los cambios\n",
    "changeMerge1={f:fz.extractOne(f, OnlyPoblacion)[0] \n",
    "                 for f in sorted(OnlyObesidad)\n",
    "                 if fz.extractOne(f, OnlyPoblacion)[1] >=90}\n",
    "changeMerge1"
   ]
  },
  {
   "cell_type": "code",
   "execution_count": 11,
   "id": "007c972a",
   "metadata": {},
   "outputs": [],
   "source": [
    "obesidad.Country.replace(to_replace=changeMerge1,inplace=True)"
   ]
  },
  {
   "cell_type": "code",
   "execution_count": 12,
   "id": "94fdde5e",
   "metadata": {},
   "outputs": [],
   "source": [
    "#######################SEGUNDO THEFUZZE ##################"
   ]
  },
  {
   "cell_type": "code",
   "execution_count": 13,
   "id": "7a998c24",
   "metadata": {},
   "outputs": [
    {
     "data": {
      "text/plain": [
       "[('BURMA', ('BERMUDA', 67)),\n",
       " ('CABO VERDE', ('CAPE VERDE', 80)),\n",
       " ('CZECH REPUBLIC', ('CZECHIA', 64)),\n",
       " ('MICRONESIA, FEDERATED STATES OF', ('ISLE OF MAN', 86)),\n",
       " ('SWAZILAND', ('TAIWAN', 60)),\n",
       " ('TIMOR-LESTE', ('EAST TIMOR', 82)),\n",
       " ('TOKELAU', ('EUROPEAN UNION (27) (GCP)', 51))]"
      ]
     },
     "execution_count": 13,
     "metadata": {},
     "output_type": "execute_result"
    }
   ],
   "source": [
    "#segundo filtro\n",
    "OnlyPoblacion=set(poblacion.Country)-set(obesidad.Country)\n",
    "OnlyObesidad=set(obesidad.Country)-set(poblacion.Country)\n",
    "[(f,fz.extractOne(f, OnlyPoblacion)) for f in sorted(OnlyObesidad)]"
   ]
  },
  {
   "cell_type": "code",
   "execution_count": 14,
   "id": "14d7bf59",
   "metadata": {},
   "outputs": [],
   "source": [
    "changeMerge2={f:fz.extractOne(f, OnlyPoblacion)[0] \n",
    "                 for f in sorted(OnlyObesidad)\n",
    "                 if 74<=fz.extractOne(f, OnlyPoblacion)[1]}"
   ]
  },
  {
   "cell_type": "code",
   "execution_count": 15,
   "id": "2cc26920",
   "metadata": {},
   "outputs": [
    {
     "data": {
      "text/plain": [
       "{'CABO VERDE': 'CAPE VERDE',\n",
       " 'MICRONESIA, FEDERATED STATES OF': 'ISLE OF MAN',\n",
       " 'TIMOR-LESTE': 'EAST TIMOR'}"
      ]
     },
     "execution_count": 15,
     "metadata": {},
     "output_type": "execute_result"
    }
   ],
   "source": [
    "changeMerge2"
   ]
  },
  {
   "cell_type": "code",
   "execution_count": 16,
   "id": "472790ef",
   "metadata": {},
   "outputs": [
    {
     "ename": "AttributeError",
     "evalue": "'Series' object has no attribute '_replace_columnwise'",
     "output_type": "error",
     "traceback": [
      "\u001b[1;31m---------------------------------------------------------------------------\u001b[0m",
      "\u001b[1;31mAttributeError\u001b[0m                            Traceback (most recent call last)",
      "\u001b[1;32m~\\AppData\\Local\\Temp\\ipykernel_21320\\703353595.py\u001b[0m in \u001b[0;36m?\u001b[1;34m()\u001b[0m\n\u001b[1;32m----> 1\u001b[1;33m \u001b[0mobesidad\u001b[0m\u001b[1;33m.\u001b[0m\u001b[0mCountry\u001b[0m\u001b[1;33m.\u001b[0m\u001b[0mreplace\u001b[0m\u001b[1;33m(\u001b[0m\u001b[0mto_replace\u001b[0m\u001b[1;33m=\u001b[0m\u001b[0mpoblacion\u001b[0m\u001b[1;33m,\u001b[0m\u001b[0minplace\u001b[0m\u001b[1;33m=\u001b[0m\u001b[1;32mTrue\u001b[0m\u001b[1;33m)\u001b[0m\u001b[1;33m\u001b[0m\u001b[1;33m\u001b[0m\u001b[0m\n\u001b[0m",
      "\u001b[1;32m~\\anaconda3\\envs\\Special_20206484_ZG\\Lib\\site-packages\\pandas\\core\\series.py\u001b[0m in \u001b[0;36m?\u001b[1;34m(self, to_replace, value, inplace, limit, regex, method)\u001b[0m\n\u001b[0;32m   5219\u001b[0m         \u001b[0mlimit\u001b[0m\u001b[1;33m:\u001b[0m \u001b[0mint\u001b[0m \u001b[1;33m|\u001b[0m \u001b[1;32mNone\u001b[0m \u001b[1;33m=\u001b[0m \u001b[1;32mNone\u001b[0m\u001b[1;33m,\u001b[0m\u001b[1;33m\u001b[0m\u001b[1;33m\u001b[0m\u001b[0m\n\u001b[0;32m   5220\u001b[0m         \u001b[0mregex\u001b[0m\u001b[1;33m:\u001b[0m \u001b[0mbool\u001b[0m \u001b[1;33m=\u001b[0m \u001b[1;32mFalse\u001b[0m\u001b[1;33m,\u001b[0m\u001b[1;33m\u001b[0m\u001b[1;33m\u001b[0m\u001b[0m\n\u001b[0;32m   5221\u001b[0m         \u001b[0mmethod\u001b[0m\u001b[1;33m:\u001b[0m \u001b[0mLiteral\u001b[0m\u001b[1;33m[\u001b[0m\u001b[1;34m\"pad\"\u001b[0m\u001b[1;33m,\u001b[0m \u001b[1;34m\"ffill\"\u001b[0m\u001b[1;33m,\u001b[0m \u001b[1;34m\"bfill\"\u001b[0m\u001b[1;33m]\u001b[0m \u001b[1;33m|\u001b[0m \u001b[0mlib\u001b[0m\u001b[1;33m.\u001b[0m\u001b[0mNoDefault\u001b[0m \u001b[1;33m=\u001b[0m \u001b[0mlib\u001b[0m\u001b[1;33m.\u001b[0m\u001b[0mno_default\u001b[0m\u001b[1;33m,\u001b[0m\u001b[1;33m\u001b[0m\u001b[1;33m\u001b[0m\u001b[0m\n\u001b[0;32m   5222\u001b[0m     ) -> Series | None:\n\u001b[1;32m-> 5223\u001b[1;33m         return super().replace(\n\u001b[0m\u001b[0;32m   5224\u001b[0m             \u001b[0mto_replace\u001b[0m\u001b[1;33m=\u001b[0m\u001b[0mto_replace\u001b[0m\u001b[1;33m,\u001b[0m\u001b[1;33m\u001b[0m\u001b[1;33m\u001b[0m\u001b[0m\n\u001b[0;32m   5225\u001b[0m             \u001b[0mvalue\u001b[0m\u001b[1;33m=\u001b[0m\u001b[0mvalue\u001b[0m\u001b[1;33m,\u001b[0m\u001b[1;33m\u001b[0m\u001b[1;33m\u001b[0m\u001b[0m\n\u001b[0;32m   5226\u001b[0m             \u001b[0minplace\u001b[0m\u001b[1;33m=\u001b[0m\u001b[0minplace\u001b[0m\u001b[1;33m,\u001b[0m\u001b[1;33m\u001b[0m\u001b[1;33m\u001b[0m\u001b[0m\n",
      "\u001b[1;32m~\\anaconda3\\envs\\Special_20206484_ZG\\Lib\\site-packages\\pandas\\core\\generic.py\u001b[0m in \u001b[0;36m?\u001b[1;34m(self, to_replace, value, inplace, limit, regex, method)\u001b[0m\n\u001b[0;32m   7295\u001b[0m                 \u001b[0mto_replace\u001b[0m\u001b[1;33m,\u001b[0m \u001b[0mvalue\u001b[0m \u001b[1;33m=\u001b[0m \u001b[0mto_rep_dict\u001b[0m\u001b[1;33m,\u001b[0m \u001b[0mvalue_dict\u001b[0m\u001b[1;33m\u001b[0m\u001b[1;33m\u001b[0m\u001b[0m\n\u001b[0;32m   7296\u001b[0m             \u001b[1;32melse\u001b[0m\u001b[1;33m:\u001b[0m\u001b[1;33m\u001b[0m\u001b[1;33m\u001b[0m\u001b[0m\n\u001b[0;32m   7297\u001b[0m                 \u001b[0mto_replace\u001b[0m\u001b[1;33m,\u001b[0m \u001b[0mvalue\u001b[0m \u001b[1;33m=\u001b[0m \u001b[0mkeys\u001b[0m\u001b[1;33m,\u001b[0m \u001b[0mvalues\u001b[0m\u001b[1;33m\u001b[0m\u001b[1;33m\u001b[0m\u001b[0m\n\u001b[0;32m   7298\u001b[0m \u001b[1;33m\u001b[0m\u001b[0m\n\u001b[1;32m-> 7299\u001b[1;33m             return self.replace(\n\u001b[0m\u001b[0;32m   7300\u001b[0m                 \u001b[0mto_replace\u001b[0m\u001b[1;33m,\u001b[0m \u001b[0mvalue\u001b[0m\u001b[1;33m,\u001b[0m \u001b[0minplace\u001b[0m\u001b[1;33m=\u001b[0m\u001b[0minplace\u001b[0m\u001b[1;33m,\u001b[0m \u001b[0mlimit\u001b[0m\u001b[1;33m=\u001b[0m\u001b[0mlimit\u001b[0m\u001b[1;33m,\u001b[0m \u001b[0mregex\u001b[0m\u001b[1;33m=\u001b[0m\u001b[0mregex\u001b[0m\u001b[1;33m\u001b[0m\u001b[1;33m\u001b[0m\u001b[0m\n\u001b[0;32m   7301\u001b[0m             )\n\u001b[0;32m   7302\u001b[0m         \u001b[1;32melse\u001b[0m\u001b[1;33m:\u001b[0m\u001b[1;33m\u001b[0m\u001b[1;33m\u001b[0m\u001b[0m\n",
      "\u001b[1;32m~\\anaconda3\\envs\\Special_20206484_ZG\\Lib\\site-packages\\pandas\\core\\series.py\u001b[0m in \u001b[0;36m?\u001b[1;34m(self, to_replace, value, inplace, limit, regex, method)\u001b[0m\n\u001b[0;32m   5219\u001b[0m         \u001b[0mlimit\u001b[0m\u001b[1;33m:\u001b[0m \u001b[0mint\u001b[0m \u001b[1;33m|\u001b[0m \u001b[1;32mNone\u001b[0m \u001b[1;33m=\u001b[0m \u001b[1;32mNone\u001b[0m\u001b[1;33m,\u001b[0m\u001b[1;33m\u001b[0m\u001b[1;33m\u001b[0m\u001b[0m\n\u001b[0;32m   5220\u001b[0m         \u001b[0mregex\u001b[0m\u001b[1;33m:\u001b[0m \u001b[0mbool\u001b[0m \u001b[1;33m=\u001b[0m \u001b[1;32mFalse\u001b[0m\u001b[1;33m,\u001b[0m\u001b[1;33m\u001b[0m\u001b[1;33m\u001b[0m\u001b[0m\n\u001b[0;32m   5221\u001b[0m         \u001b[0mmethod\u001b[0m\u001b[1;33m:\u001b[0m \u001b[0mLiteral\u001b[0m\u001b[1;33m[\u001b[0m\u001b[1;34m\"pad\"\u001b[0m\u001b[1;33m,\u001b[0m \u001b[1;34m\"ffill\"\u001b[0m\u001b[1;33m,\u001b[0m \u001b[1;34m\"bfill\"\u001b[0m\u001b[1;33m]\u001b[0m \u001b[1;33m|\u001b[0m \u001b[0mlib\u001b[0m\u001b[1;33m.\u001b[0m\u001b[0mNoDefault\u001b[0m \u001b[1;33m=\u001b[0m \u001b[0mlib\u001b[0m\u001b[1;33m.\u001b[0m\u001b[0mno_default\u001b[0m\u001b[1;33m,\u001b[0m\u001b[1;33m\u001b[0m\u001b[1;33m\u001b[0m\u001b[0m\n\u001b[0;32m   5222\u001b[0m     ) -> Series | None:\n\u001b[1;32m-> 5223\u001b[1;33m         return super().replace(\n\u001b[0m\u001b[0;32m   5224\u001b[0m             \u001b[0mto_replace\u001b[0m\u001b[1;33m=\u001b[0m\u001b[0mto_replace\u001b[0m\u001b[1;33m,\u001b[0m\u001b[1;33m\u001b[0m\u001b[1;33m\u001b[0m\u001b[0m\n\u001b[0;32m   5225\u001b[0m             \u001b[0mvalue\u001b[0m\u001b[1;33m=\u001b[0m\u001b[0mvalue\u001b[0m\u001b[1;33m,\u001b[0m\u001b[1;33m\u001b[0m\u001b[1;33m\u001b[0m\u001b[0m\n\u001b[0;32m   5226\u001b[0m             \u001b[0minplace\u001b[0m\u001b[1;33m=\u001b[0m\u001b[0minplace\u001b[0m\u001b[1;33m,\u001b[0m\u001b[1;33m\u001b[0m\u001b[1;33m\u001b[0m\u001b[0m\n",
      "\u001b[1;32m~\\anaconda3\\envs\\Special_20206484_ZG\\Lib\\site-packages\\pandas\\core\\generic.py\u001b[0m in \u001b[0;36m?\u001b[1;34m(self, to_replace, value, inplace, limit, regex, method)\u001b[0m\n\u001b[0;32m   7314\u001b[0m                         \u001b[0mcol\u001b[0m\u001b[1;33m:\u001b[0m \u001b[1;33m(\u001b[0m\u001b[0mto_replace\u001b[0m\u001b[1;33m[\u001b[0m\u001b[0mcol\u001b[0m\u001b[1;33m]\u001b[0m\u001b[1;33m,\u001b[0m \u001b[0mvalue\u001b[0m\u001b[1;33m[\u001b[0m\u001b[0mcol\u001b[0m\u001b[1;33m]\u001b[0m\u001b[1;33m)\u001b[0m\u001b[1;33m\u001b[0m\u001b[1;33m\u001b[0m\u001b[0m\n\u001b[0;32m   7315\u001b[0m                         \u001b[1;32mfor\u001b[0m \u001b[0mcol\u001b[0m \u001b[1;32min\u001b[0m \u001b[0mto_replace\u001b[0m\u001b[1;33m.\u001b[0m\u001b[0mkeys\u001b[0m\u001b[1;33m(\u001b[0m\u001b[1;33m)\u001b[0m\u001b[1;33m\u001b[0m\u001b[1;33m\u001b[0m\u001b[0m\n\u001b[0;32m   7316\u001b[0m                         \u001b[1;32mif\u001b[0m \u001b[0mcol\u001b[0m \u001b[1;32min\u001b[0m \u001b[0mvalue\u001b[0m\u001b[1;33m.\u001b[0m\u001b[0mkeys\u001b[0m\u001b[1;33m(\u001b[0m\u001b[1;33m)\u001b[0m \u001b[1;32mand\u001b[0m \u001b[0mcol\u001b[0m \u001b[1;32min\u001b[0m \u001b[0mself\u001b[0m\u001b[1;33m\u001b[0m\u001b[1;33m\u001b[0m\u001b[0m\n\u001b[0;32m   7317\u001b[0m                     }\n\u001b[1;32m-> 7318\u001b[1;33m                     \u001b[1;32mreturn\u001b[0m \u001b[0mself\u001b[0m\u001b[1;33m.\u001b[0m\u001b[0m_replace_columnwise\u001b[0m\u001b[1;33m(\u001b[0m\u001b[0mmapping\u001b[0m\u001b[1;33m,\u001b[0m \u001b[0minplace\u001b[0m\u001b[1;33m,\u001b[0m \u001b[0mregex\u001b[0m\u001b[1;33m)\u001b[0m\u001b[1;33m\u001b[0m\u001b[1;33m\u001b[0m\u001b[0m\n\u001b[0m\u001b[0;32m   7319\u001b[0m \u001b[1;33m\u001b[0m\u001b[0m\n\u001b[0;32m   7320\u001b[0m                 \u001b[1;31m# {'A': NA} -> 0\u001b[0m\u001b[1;33m\u001b[0m\u001b[1;33m\u001b[0m\u001b[0m\n\u001b[0;32m   7321\u001b[0m                 \u001b[1;32melif\u001b[0m \u001b[1;32mnot\u001b[0m \u001b[0mis_list_like\u001b[0m\u001b[1;33m(\u001b[0m\u001b[0mvalue\u001b[0m\u001b[1;33m)\u001b[0m\u001b[1;33m:\u001b[0m\u001b[1;33m\u001b[0m\u001b[1;33m\u001b[0m\u001b[0m\n",
      "\u001b[1;32m~\\anaconda3\\envs\\Special_20206484_ZG\\Lib\\site-packages\\pandas\\core\\generic.py\u001b[0m in \u001b[0;36m?\u001b[1;34m(self, name)\u001b[0m\n\u001b[0;32m   5985\u001b[0m             \u001b[1;32mand\u001b[0m \u001b[0mname\u001b[0m \u001b[1;32mnot\u001b[0m \u001b[1;32min\u001b[0m \u001b[0mself\u001b[0m\u001b[1;33m.\u001b[0m\u001b[0m_accessors\u001b[0m\u001b[1;33m\u001b[0m\u001b[1;33m\u001b[0m\u001b[0m\n\u001b[0;32m   5986\u001b[0m             \u001b[1;32mand\u001b[0m \u001b[0mself\u001b[0m\u001b[1;33m.\u001b[0m\u001b[0m_info_axis\u001b[0m\u001b[1;33m.\u001b[0m\u001b[0m_can_hold_identifiers_and_holds_name\u001b[0m\u001b[1;33m(\u001b[0m\u001b[0mname\u001b[0m\u001b[1;33m)\u001b[0m\u001b[1;33m\u001b[0m\u001b[1;33m\u001b[0m\u001b[0m\n\u001b[0;32m   5987\u001b[0m         ):\n\u001b[0;32m   5988\u001b[0m             \u001b[1;32mreturn\u001b[0m \u001b[0mself\u001b[0m\u001b[1;33m[\u001b[0m\u001b[0mname\u001b[0m\u001b[1;33m]\u001b[0m\u001b[1;33m\u001b[0m\u001b[1;33m\u001b[0m\u001b[0m\n\u001b[1;32m-> 5989\u001b[1;33m         \u001b[1;32mreturn\u001b[0m \u001b[0mobject\u001b[0m\u001b[1;33m.\u001b[0m\u001b[0m__getattribute__\u001b[0m\u001b[1;33m(\u001b[0m\u001b[0mself\u001b[0m\u001b[1;33m,\u001b[0m \u001b[0mname\u001b[0m\u001b[1;33m)\u001b[0m\u001b[1;33m\u001b[0m\u001b[1;33m\u001b[0m\u001b[0m\n\u001b[0m",
      "\u001b[1;31mAttributeError\u001b[0m: 'Series' object has no attribute '_replace_columnwise'"
     ]
    }
   ],
   "source": [
    "obesidad.Country.replace(to_replace=poblacion,inplace=True)"
   ]
  },
  {
   "cell_type": "code",
   "execution_count": 14,
   "id": "2c8c7805",
   "metadata": {},
   "outputs": [],
   "source": [
    "########################## TERCER THEFUZZE ##################################################"
   ]
  },
  {
   "cell_type": "code",
   "execution_count": 15,
   "id": "8d505079",
   "metadata": {
    "scrolled": true
   },
   "outputs": [
    {
     "data": {
      "text/plain": [
       "[('BURMA', ('BERMUDA', 67)),\n",
       " ('CABO VERDE', ('CAPE VERDE', 80)),\n",
       " ('CZECH REPUBLIC', ('CZECHIA', 64)),\n",
       " ('MICRONESIA, FEDERATED STATES OF', ('ISLE OF MAN', 86)),\n",
       " ('SWAZILAND', ('TURKS AND CAICOS ISLANDS', 60)),\n",
       " ('TIMOR-LESTE', ('EAST TIMOR', 82)),\n",
       " ('TOKELAU', ('NETHERLANDS ANTILLES', 51))]"
      ]
     },
     "execution_count": 15,
     "metadata": {},
     "output_type": "execute_result"
    }
   ],
   "source": [
    "OnlyPoblacion=set(poblacion.Country)-set(obesidad.Country)\n",
    "OnlyObesidad=set(obesidad.Country)-set(poblacion.Country)\n",
    "[(f,fz.extractOne(f, OnlyPoblacion)) for f in sorted(OnlyObesidad)]"
   ]
  },
  {
   "cell_type": "code",
   "execution_count": 16,
   "id": "78640f73",
   "metadata": {},
   "outputs": [],
   "source": [
    "changesMerge3={f:fz.extractOne(f, OnlyPoblacion)[0] \n",
    "                 for f in sorted(OnlyObesidad)\n",
    "                 if 54==fz.extractOne(f, OnlyPoblacion)[1]}"
   ]
  },
  {
   "cell_type": "code",
   "execution_count": null,
   "id": "ca28a5c5",
   "metadata": {},
   "outputs": [],
   "source": [
    "changesMerge3"
   ]
  },
  {
   "cell_type": "code",
   "execution_count": null,
   "id": "36ba4ebf",
   "metadata": {},
   "outputs": [],
   "source": [
    "obesidad.Country.replace(to_replace=poblacion,inplace=True)"
   ]
  },
  {
   "cell_type": "code",
   "execution_count": 17,
   "id": "fde2cb76",
   "metadata": {
    "scrolled": true
   },
   "outputs": [
    {
     "data": {
      "text/html": [
       "<div>\n",
       "<style scoped>\n",
       "    .dataframe tbody tr th:only-of-type {\n",
       "        vertical-align: middle;\n",
       "    }\n",
       "\n",
       "    .dataframe tbody tr th {\n",
       "        vertical-align: top;\n",
       "    }\n",
       "\n",
       "    .dataframe thead th {\n",
       "        text-align: right;\n",
       "    }\n",
       "</style>\n",
       "<table border=\"1\" class=\"dataframe\">\n",
       "  <thead>\n",
       "    <tr style=\"text-align: right;\">\n",
       "      <th></th>\n",
       "      <th>Country</th>\n",
       "      <th>Population_in_2020</th>\n",
       "      <th>Obesity_adult_prevalence_rate</th>\n",
       "    </tr>\n",
       "  </thead>\n",
       "  <tbody>\n",
       "    <tr>\n",
       "      <th>0</th>\n",
       "      <td>AFGHANISTAN</td>\n",
       "      <td>38972236.0</td>\n",
       "      <td>2.2</td>\n",
       "    </tr>\n",
       "    <tr>\n",
       "      <th>1</th>\n",
       "      <td>ALBANIA</td>\n",
       "      <td>2866850.0</td>\n",
       "      <td>21.3</td>\n",
       "    </tr>\n",
       "    <tr>\n",
       "      <th>2</th>\n",
       "      <td>ALGERIA</td>\n",
       "      <td>43451668.0</td>\n",
       "      <td>16.0</td>\n",
       "    </tr>\n",
       "    <tr>\n",
       "      <th>3</th>\n",
       "      <td>AMERICAN SAMOA</td>\n",
       "      <td>46216.0</td>\n",
       "      <td>74.6</td>\n",
       "    </tr>\n",
       "    <tr>\n",
       "      <th>4</th>\n",
       "      <td>ANDORRA</td>\n",
       "      <td>77723.0</td>\n",
       "      <td>25.2</td>\n",
       "    </tr>\n",
       "    <tr>\n",
       "      <th>...</th>\n",
       "      <td>...</td>\n",
       "      <td>...</td>\n",
       "      <td>...</td>\n",
       "    </tr>\n",
       "    <tr>\n",
       "      <th>179</th>\n",
       "      <td>VENEZUELA</td>\n",
       "      <td>28490458.0</td>\n",
       "      <td>30.3</td>\n",
       "    </tr>\n",
       "    <tr>\n",
       "      <th>180</th>\n",
       "      <td>VIETNAM</td>\n",
       "      <td>96648680.0</td>\n",
       "      <td>1.7</td>\n",
       "    </tr>\n",
       "    <tr>\n",
       "      <th>181</th>\n",
       "      <td>YEMEN</td>\n",
       "      <td>32284044.0</td>\n",
       "      <td>14.5</td>\n",
       "    </tr>\n",
       "    <tr>\n",
       "      <th>182</th>\n",
       "      <td>ZAMBIA</td>\n",
       "      <td>18927716.0</td>\n",
       "      <td>3.6</td>\n",
       "    </tr>\n",
       "    <tr>\n",
       "      <th>183</th>\n",
       "      <td>ZIMBABWE</td>\n",
       "      <td>15669663.0</td>\n",
       "      <td>7.0</td>\n",
       "    </tr>\n",
       "  </tbody>\n",
       "</table>\n",
       "<p>184 rows × 3 columns</p>\n",
       "</div>"
      ],
      "text/plain": [
       "            Country  Population_in_2020  Obesity_adult_prevalence_rate\n",
       "0       AFGHANISTAN          38972236.0                            2.2\n",
       "1           ALBANIA           2866850.0                           21.3\n",
       "2           ALGERIA          43451668.0                           16.0\n",
       "3    AMERICAN SAMOA             46216.0                           74.6\n",
       "4           ANDORRA             77723.0                           25.2\n",
       "..              ...                 ...                            ...\n",
       "179       VENEZUELA          28490458.0                           30.3\n",
       "180         VIETNAM          96648680.0                            1.7\n",
       "181           YEMEN          32284044.0                           14.5\n",
       "182          ZAMBIA          18927716.0                            3.6\n",
       "183        ZIMBABWE          15669663.0                            7.0\n",
       "\n",
       "[184 rows x 3 columns]"
      ]
     },
     "execution_count": 17,
     "metadata": {},
     "output_type": "execute_result"
    }
   ],
   "source": [
    "#Realizaré el primer merge entre mi dos de mis datas\n",
    "merge_data1=poblacion.merge(obesidad,left_on='Country',right_on='Country')\n",
    "\n",
    "# Revisando el resultado del primer merge\n",
    "merge_data1"
   ]
  },
  {
   "cell_type": "code",
   "execution_count": 18,
   "id": "a2579a23",
   "metadata": {},
   "outputs": [],
   "source": [
    "########################## THEFUZZE 1 ###########################\n",
    "OnlyMergeData1=set(merge_data1.Country)-set(gripe.Country)\n",
    "OnlyGripe=set(merge_data1.Country)-set(gripe.Country)\n",
    "\n",
    "changeMergeDataP={f:fz.extractOne(f, OnlyMergeData1)[0] \n",
    "                 for f in sorted(OnlyGripe)\n",
    "                 if fz.extractOne(f, OnlyMergeData1)[1] >=90}\n"
   ]
  },
  {
   "cell_type": "code",
   "execution_count": 19,
   "id": "b60f2d6e",
   "metadata": {},
   "outputs": [
    {
     "data": {
      "text/plain": [
       "{'AMERICAN SAMOA': 'AMERICAN SAMOA',\n",
       " 'ANDORRA': 'ANDORRA',\n",
       " 'COOK ISLANDS': 'COOK ISLANDS',\n",
       " 'DOMINICA': 'DOMINICA',\n",
       " 'MARSHALL ISLANDS': 'MARSHALL ISLANDS',\n",
       " 'NAURU': 'NAURU',\n",
       " 'PALAU': 'PALAU',\n",
       " 'SAINT KITTS AND NEVIS': 'SAINT KITTS AND NEVIS'}"
      ]
     },
     "execution_count": 19,
     "metadata": {},
     "output_type": "execute_result"
    }
   ],
   "source": [
    "changeMergeDataP"
   ]
  },
  {
   "cell_type": "code",
   "execution_count": 21,
   "id": "27a19537",
   "metadata": {},
   "outputs": [],
   "source": [
    "gripe.replace(to_replace=changeMergeDataP,inplace=True)"
   ]
  },
  {
   "cell_type": "code",
   "execution_count": null,
   "id": "3988d1ca",
   "metadata": {},
   "outputs": [],
   "source": [
    "################## SEGUNDO THEFUZZE ########################"
   ]
  },
  {
   "cell_type": "code",
   "execution_count": null,
   "id": "f5b17b10",
   "metadata": {},
   "outputs": [],
   "source": [
    "OnlyMergeData1=set(merge_data1.Country)-set(gripe.Country)\n",
    "OnlyGripe=set(merge_data1.Country)-set(gripe.Country)\n",
    "[(f,fz.extractOne(f, OnlyMergeData1)) for f in sorted(OnlyGripe)]"
   ]
  },
  {
   "cell_type": "code",
   "execution_count": null,
   "id": "0fdf001a",
   "metadata": {},
   "outputs": [],
   "source": []
  },
  {
   "cell_type": "code",
   "execution_count": null,
   "id": "3c01848b",
   "metadata": {
    "scrolled": true
   },
   "outputs": [],
   "source": [
    "# Como las datas que debo hacer son cuatro, debo realizar un nuevo merge, esta vez entre otra de mis datas\n",
    "# y el realizado anteriormente\n",
    "merge_data2=merge_data1.merge(gripe,left_on='Country',right_on='Country')\n",
    "\n",
    "#revisando el resultado de este segundo merge\n",
    "merge_data2"
   ]
  },
  {
   "cell_type": "code",
   "execution_count": null,
   "id": "29f52c99",
   "metadata": {},
   "outputs": [],
   "source": [
    "# Viendo las diferencias\n",
    "set(country_isos.Country)-set(merge_data2.Country)"
   ]
  },
  {
   "cell_type": "code",
   "execution_count": null,
   "id": "8d841a64",
   "metadata": {},
   "outputs": [],
   "source": [
    "# Finalmente, tenemos el merge del resultado de la unión de mis propias datas con las brindadas por el profesor \n",
    "merge_final=country_isos.merge(merge_data2,left_on='Country',right_on='Country')\n",
    "\n",
    "# Revisando nuestro resultado, tenemos\n",
    "merge_final"
   ]
  },
  {
   "cell_type": "code",
   "execution_count": null,
   "id": "e6061023",
   "metadata": {},
   "outputs": [],
   "source": [
    "#creamos una copia para realizar una vista de lo que serían la data si eliminamos los países que contienen NaN en alguna\n",
    "# de sus celdas\n",
    "merge_final_copia = merge_final.copy()\n",
    "filas_con_nan = merge_final_copia.isna().any(axis=1)\n",
    "filas_con_nan = merge_final_copia[filas_con_nan]\n",
    "\n",
    "filas_con_nan\n",
    "merge_final_copia.dropna(axis=0, how='any', inplace=True)"
   ]
  },
  {
   "cell_type": "code",
   "execution_count": null,
   "id": "7a5dcb09",
   "metadata": {},
   "outputs": [],
   "source": [
    "# Ahora, con toda mi data, puedo realizar la limpieza final\n",
    "\n",
    "# Quiero asegurarme que los datos en mi columnas sean de un tipo de valor coherente (Números)\n",
    "# por lo que es necesario deshacerme de valores como NaN, que pueden ser un obstáculo en la aplicación de mi nueva data\n",
    "merge_final.replace(np.nan,0,inplace=True) \n",
    "\n",
    "# Revisando el merge final\n",
    "merge_final"
   ]
  },
  {
   "cell_type": "code",
   "execution_count": null,
   "id": "f3b0dc47",
   "metadata": {},
   "outputs": [],
   "source": [
    "# Cambiando el tipo de dato de las celdas de las columnas de mi data\n",
    "merge_final['Obesity_adult_prevalence_rate'] = merge_final['Obesity_adult_prevalence_rate'].astype(str)\n",
    "merge_final['Population_in_2020'] = merge_final['Population_in_2020'].astype(str)\n",
    "merge_final['numero_anual_muertes'] = merge_final['numero_anual_muertes'].astype(str)\n",
    "\n",
    "# Nos aseguramos de eliminar los espacios en blanco\n",
    "merge_final.Obesity_adult_prevalence_rate.str.contains(pat=r'\\d',regex=True)\n",
    "merge_final.Population_in_2020.str.contains(pat=r'\\d',regex=True)\n",
    "merge_final.numero_anual_muertes.str.contains(pat=r'\\d',regex=True)\n",
    "\n",
    "# Verificamos la aplicación de los códigos\n",
    "merge_final"
   ]
  },
  {
   "cell_type": "code",
   "execution_count": null,
   "id": "47ff3ebc",
   "metadata": {},
   "outputs": [],
   "source": [
    "# Reemplazamos los valores en blanco, por guiones bajos\n",
    "merge_final.rename(columns={'Officialstatename': 'Official_State_Name'}, inplace=True)\n",
    "merge_final['Official_State_Name']=merge_final['Official_State_Name'].str.replace(' ','_',regex=True)\n",
    "merge_final['Country']=merge_final['Country'].str.replace(' ','_',regex=True)\n",
    "\n",
    "#Revisamos nuestra data\n",
    "merge_final"
   ]
  },
  {
   "cell_type": "code",
   "execution_count": null,
   "id": "4835dc74",
   "metadata": {
    "scrolled": true
   },
   "outputs": [],
   "source": [
    "# Eliminar espacios en blanco\n",
    "merge_final=merge_final.rename(columns=lambda x:x.strip())\n",
    "\n",
    "# Finalmente, nuestro resultado final es el siguiente, considerando que los valores de NaN pasan a ser 0\n",
    "merge_final"
   ]
  },
  {
   "cell_type": "code",
   "execution_count": null,
   "id": "9df5d3b6",
   "metadata": {},
   "outputs": [],
   "source": [
    "merge_final.info()"
   ]
  },
  {
   "cell_type": "code",
   "execution_count": null,
   "id": "f3c5b11a",
   "metadata": {},
   "outputs": [],
   "source": [
    "# Arreglando el Dtype de algunas columnas\n",
    "merge_final['Population_in_2020'] = merge_final['Population_in_2020'].astype('float64')\n",
    "merge_final['Obesity_adult_prevalence_rate'] = merge_final['Obesity_adult_prevalence_rate'].astype('float64')\n",
    "merge_final['numero_anual_muertes'] = merge_final['numero_anual_muertes'].astype('float64')"
   ]
  },
  {
   "cell_type": "code",
   "execution_count": null,
   "id": "d215a3d7",
   "metadata": {},
   "outputs": [],
   "source": [
    "merge_final.info()"
   ]
  },
  {
   "cell_type": "code",
   "execution_count": null,
   "id": "01ee4fdf",
   "metadata": {},
   "outputs": [],
   "source": [
    "merge_final_copia.rename(columns={'Officialstatename': 'Official_State_Name'}, inplace=True)\n",
    "merge_final_copia['Official_State_Name']=merge_final_copia['Official_State_Name'].str.replace(' ','_',regex=True)\n",
    "merge_final_copia['Country']=merge_final_copia['Country'].str.replace(' ','_',regex=True)\n",
    "merge_final_copia['Population_in_2020'] = merge_final_copia['Population_in_2020'].astype('float64')\n",
    "merge_final_copia['Obesity_adult_prevalence_rate'] = merge_final_copia['Obesity_adult_prevalence_rate'].astype('float64')\n",
    "merge_final_copia['numero_anual_muertes'] = merge_final_copia['numero_anual_muertes'].astype('float64')\n",
    "merge_final_copia.info()"
   ]
  },
  {
   "cell_type": "code",
   "execution_count": null,
   "id": "9a0f181c",
   "metadata": {},
   "outputs": [],
   "source": [
    "merge_final_copia"
   ]
  },
  {
   "cell_type": "code",
   "execution_count": null,
   "id": "5906eab6",
   "metadata": {},
   "outputs": [],
   "source": [
    "# Se tienen dos resultados merge_final_copia y merge_final:\n",
    "\n",
    "# Considerando eliminar los países que contenían NaN\n",
    "merge_final_copia"
   ]
  },
  {
   "cell_type": "code",
   "execution_count": null,
   "id": "8a57520e",
   "metadata": {},
   "outputs": [],
   "source": [
    "# considerando el valor de NaN como 0\n",
    "merge_final"
   ]
  },
  {
   "cell_type": "code",
   "execution_count": null,
   "id": "dfcca020",
   "metadata": {},
   "outputs": [],
   "source": [
    "merge_final_copia.reset_index(drop=True, inplace=True)\n"
   ]
  },
  {
   "cell_type": "code",
   "execution_count": null,
   "id": "e4aa0645",
   "metadata": {},
   "outputs": [],
   "source": [
    "merge_final_copia"
   ]
  }
 ],
 "metadata": {
  "kernelspec": {
   "display_name": "Python 3 (ipykernel)",
   "language": "python",
   "name": "python3"
  },
  "language_info": {
   "codemirror_mode": {
    "name": "ipython",
    "version": 3
   },
   "file_extension": ".py",
   "mimetype": "text/x-python",
   "name": "python",
   "nbconvert_exporter": "python",
   "pygments_lexer": "ipython3",
   "version": "3.11.4"
  }
 },
 "nbformat": 4,
 "nbformat_minor": 5
}
