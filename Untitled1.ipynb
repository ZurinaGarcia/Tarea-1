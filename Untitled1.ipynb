{
 "cells": [
  {
   "cell_type": "code",
   "execution_count": null,
   "id": "c4a299b3",
   "metadata": {},
   "outputs": [],
   "source": [
    "import os, pandas as pd\n",
    "#me aseguro que el Dtype sea coherente con mi información \n",
    "poblacion=pd.read_csv(os.path.join(\"co2.csv\"))\n",
    "poblacion.info()"
   ]
  },
  {
   "cell_type": "code",
   "execution_count": null,
   "id": "ea3f88ec",
   "metadata": {},
   "outputs": [],
   "source": [
    "#datos del 2020\n",
    "poblacion_2020 = poblacion[poblacion['year'] == 2020]\n",
    "poblacion_2020.info()\n",
    "poblacion_2020"
   ]
  },
  {
   "cell_type": "code",
   "execution_count": null,
   "id": "1e30e9a9",
   "metadata": {},
   "outputs": [],
   "source": [
    "# Seleccionar las columnas específicas\n",
    "poblacion_2020 = poblacion_2020[['country', 'iso_code', 'population']]\n",
    "poblacion_2020.reset_index(drop=True, inplace=True)\n"
   ]
  },
  {
   "cell_type": "code",
   "execution_count": null,
   "id": "984f4b50",
   "metadata": {},
   "outputs": [],
   "source": [
    "#Mostrar las columnas\n",
    "poblacion_2020.columns\n",
    "\n",
    "# Cambiar el nombre de la columna \"country\" a \"Country\" en el DataFrame original\n",
    "poblacion_2020.rename(columns={'country': 'Country'}, inplace=True)"
   ]
  },
  {
   "cell_type": "code",
   "execution_count": null,
   "id": "ee4017d6",
   "metadata": {
    "scrolled": false
   },
   "outputs": [],
   "source": []
  },
  {
   "cell_type": "code",
   "execution_count": null,
   "id": "56dcb586",
   "metadata": {},
   "outputs": [],
   "source": []
  }
 ],
 "metadata": {
  "kernelspec": {
   "display_name": "Python 3 (ipykernel)",
   "language": "python",
   "name": "python3"
  },
  "language_info": {
   "codemirror_mode": {
    "name": "ipython",
    "version": 3
   },
   "file_extension": ".py",
   "mimetype": "text/x-python",
   "name": "python",
   "nbconvert_exporter": "python",
   "pygments_lexer": "ipython3",
   "version": "3.11.4"
  }
 },
 "nbformat": 4,
 "nbformat_minor": 5
}
